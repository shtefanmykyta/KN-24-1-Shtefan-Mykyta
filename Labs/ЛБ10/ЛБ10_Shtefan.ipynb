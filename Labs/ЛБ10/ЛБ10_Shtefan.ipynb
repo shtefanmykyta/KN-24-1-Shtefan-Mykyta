{
 "cells": [
  {
   "cell_type": "markdown",
   "id": "70a5f655-644f-4960-b6ea-f0b8ed6f2d7d",
   "metadata": {},
   "source": [
    "# Звіт з лабораторної роботи №10"
   ]
  },
  {
   "cell_type": "markdown",
   "id": "ebd691f5-9072-4cd7-a4f5-0fba8755a79a",
   "metadata": {},
   "source": [
    "Виконав студент групи КН-24-1 Озівський В. В."
   ]
  },
  {
   "cell_type": "markdown",
   "id": "1d97d447-99ff-4e8b-9b18-84fee32e3a08",
   "metadata": {},
   "source": [
    "Тема: Стиснення даних. Жадібна стратегія на прикладі кодування Гафмена\n",
    "\\\n",
    "Мета: навчитись реалізовувати алгоритм побудови дерева оптимальних кодів Гафмена на основі черги з пріоритетом (за допомогою купи) засобами Python."
   ]
  },
  {
   "cell_type": "markdown",
   "id": "60d4716a-4105-49b5-a04e-a47c358ae41c",
   "metadata": {},
   "source": [
    "### <center>Хід роботи</center>"
   ]
  },
  {
   "cell_type": "markdown",
   "id": "6511b613-ae6f-494e-aceb-4ea4b01f5bb8",
   "metadata": {},
   "source": [
    "### 1. Побудувати дерево кодів Гафмена згідно з варіантом і візуалізувати дерево. "
   ]
  },
  {
   "cell_type": "markdown",
   "id": "f0527e8e-4d3b-4218-bd02-40a331746995",
   "metadata": {},
   "source": [
    "#### Коди Гафмена для кожного символу AABBBCCCDDDDDEEEEEFFFFFGGGGGHHHHHIIII:\n",
    "- A: 1100 (частота: 2)\n",
    "- B: 000 (частота: 3)\n",
    "- C: 1101 (частота: 3)\n",
    "- D: 010 (частота: 5)\n",
    "- E: 011 (частота: 5)\n",
    "- F: 101 (частота: 5)\n",
    "- G: 100 (частота: 5)\n",
    "- H: 111 (частота: 5)\n",
    "- I: 001 (частота: 4)"
   ]
  },
  {
   "cell_type": "markdown",
   "id": "f1839363-c64c-43f2-991e-a2c4e39dc20c",
   "metadata": {},
   "source": [
    "#### Двійкове дерево"
   ]
  },
  {
   "cell_type": "markdown",
   "id": "1f75179c-c1fb-45bb-85f4-a8db0212a6a3",
   "metadata": {},
   "source": [
    "![Двійкове дерево](1.png)"
   ]
  },
  {
   "cell_type": "markdown",
   "id": "e22534ab-9eb8-4ac0-8a04-3877768573f5",
   "metadata": {},
   "source": [
    "#### 2. Перевірити результат за допомогою коду"
   ]
  },
  {
   "cell_type": "code",
   "execution_count": 1,
   "id": "f8b43a55-b744-4d37-b575-25fe20f850d4",
   "metadata": {},
   "outputs": [
    {
     "name": "stdout",
     "output_type": "stream",
     "text": [
      "B -> 000\n",
      "I -> 001\n",
      "D -> 010\n",
      "E -> 011\n",
      "G -> 100\n",
      "F -> 101\n",
      "A -> 1100\n",
      "C -> 1101\n",
      "H -> 111\n"
     ]
    }
   ],
   "source": [
    "# A Вузол дерева Гафмена\n",
    "import heapq\n",
    "\n",
    "\n",
    "class node:\n",
    "    def __init__(self, freq, symbol, left=None, right=None):\n",
    "        # частота символу\n",
    "        self.freq = freq\n",
    "        # назва символу (символ)\n",
    "        self.symbol = symbol\n",
    "        # вузол ліворуч від поточного вузла\n",
    "        self.left = left\n",
    "        # вузол праворуч від поточного вузла\n",
    "        self.right = right\n",
    "        # напрямок дерева (0/1)\n",
    "        self.huff = ''\n",
    "\n",
    "    def __lt__(self, nxt):\n",
    "        return self.freq < nxt.freq\n",
    "\n",
    "\n",
    "# утиліта для виведення кодів Гафмена для\n",
    "# всіх символів у щойно створеному дереві Гафмена\n",
    "def printNodes(node, val=''):\n",
    "    # Код Гафмена для поточного вузла\n",
    "    newVal = val + str(node.huff)\n",
    "    # якщо вершина не є реберною вершиною\n",
    "    # то пройти всередині неї\n",
    "    if (node.left):\n",
    "        printNodes(node.left, newVal)\n",
    "    if (node.right):\n",
    "        printNodes(node.right, newVal)\n",
    "        # якщо node є реберною вершиною тоді\n",
    "        # вивести його хаффманівський код\n",
    "    if (not node.left and not node.right):\n",
    "        print(f\"{node.symbol} -> {newVal}\")\n",
    "\n",
    "\n",
    "# символи для дерева Гафмена\n",
    "chars = ['A', 'B', 'C', 'D', 'E', 'F', 'G', 'H', 'I']\n",
    "# частота символів\n",
    "freq = [2, 3, 3, 5, 5, 5, 5, 5, 4]\n",
    "# список, що містить невикористані вершини\n",
    "nodes = []\n",
    "# перетворення символів та частот\n",
    "# у вузли дерева Гафмена\n",
    "for x in range(len(chars)):\n",
    "    heapq.heappush(nodes, node(freq[x], chars[x]))\n",
    "while len(nodes) > 1:\n",
    "    # відсортувати всі вершини за зростанням\n",
    "    # на основі їх частоти\n",
    "    left = heapq.heappop(nodes)\n",
    "    right = heapq.heappop(nodes)\n",
    "    # присвоїти значення напрямку цим вузлам\n",
    "    left.huff = 0\n",
    "    right.huff = 1\n",
    "    # об'єднати 2 найменші вершини, щоб створити\n",
    "    # новий вузол як їхній батько\n",
    "    newNode = node(left.freq + right.freq, left.symbol + right.symbol, left, right)\n",
    "    heapq.heappush(nodes, newNode)\n",
    "\n",
    "# Друк кодів Гафмена\n",
    "printNodes(nodes[0])"
   ]
  },
  {
   "cell_type": "markdown",
   "id": "8d7fc015-463c-46ed-b6c3-e6998d6d249b",
   "metadata": {},
   "source": [
    "#### 3. Процедура на Python, яка для вхідного повідомлення обчислює список символів chars та список їх частот freq"
   ]
  },
  {
   "cell_type": "code",
   "execution_count": 2,
   "id": "2661a1aa-3187-4243-a710-796c7ad6a547",
   "metadata": {},
   "outputs": [],
   "source": [
    "def get_freq_table(message):\n",
    "    \n",
    "    char_freq = {}\n",
    "    \n",
    "    for char in message:\n",
    "        if char in char_freq:\n",
    "            char_freq[char] += 1\n",
    "        else:\n",
    "            char_freq[char] = 1\n",
    "    \n",
    "    chars = list(char_freq.keys())\n",
    "    freq = [char_freq[char] for char in chars]\n",
    "    \n",
    "    return chars, freq"
   ]
  },
  {
   "cell_type": "markdown",
   "id": "6da4e1d8-64b4-46ad-a9fa-8722ff47b204",
   "metadata": {},
   "source": [
    "#### 4. Декодування повідомлення, заданого варіантом"
   ]
  },
  {
   "cell_type": "code",
   "execution_count": 5,
   "id": "5eb4934c-4c27-4bd2-9ca3-7fcad118a6b1",
   "metadata": {},
   "outputs": [
    {
     "name": "stdout",
     "output_type": "stream",
     "text": [
      "Character With there Frequencies:\n",
      "A 1100\n",
      "B 000\n",
      "C 1101\n",
      "D 010\n",
      "E 011\n",
      "F 101\n",
      "G 100\n",
      "H 111\n",
      "I 001\n",
      "\n",
      "Encoded Huffman data:\n",
      "11001100000000000110111011101010010010010010011011011011011101101101101101100100100100100111111111111111001001001001\n",
      "\n",
      "Decoded Huffman Data:\n",
      "AABBBCCCDDDDDEEEEEFFFFFGGGGGHHHHHIIII\u0000\n"
     ]
    }
   ],
   "source": [
    "import heapq\n",
    "from collections import defaultdict\n",
    "\n",
    "# to map each character its huffman value\n",
    "codes = {}\n",
    "\n",
    "# To store the frequency of character of the input data\n",
    "freq = defaultdict(int)\n",
    "\n",
    "# A Huffman tree node\n",
    "class MinHeapNode:\n",
    "    def __init__(self, data, freq):\n",
    "        self.left = None\n",
    "        self.right = None\n",
    "        self.data = data\n",
    "        self.freq = freq\n",
    "\n",
    "    def __lt__(self, other):\n",
    "        return self.freq < other.freq\n",
    "\n",
    "# utility function to print characters along with\n",
    "# there huffman value\n",
    "def printCodes(root, str):\n",
    "    if root is None:\n",
    "        return\n",
    "    if root.data != '$':\n",
    "        print(root.data, \":\", str)\n",
    "    printCodes(root.left, str + \"0\")\n",
    "    printCodes(root.right, str + \"1\")\n",
    "\n",
    "# utility function to store characters along with\n",
    "# there huffman value in a hash table\n",
    "def storeCodes(root, str):\n",
    "    if root is None:\n",
    "        return\n",
    "    if root.data != '$':\n",
    "        codes[root.data] = str\n",
    "    storeCodes(root.left, str + \"0\")\n",
    "    storeCodes(root.right, str + \"1\")\n",
    "\n",
    "# function to build the Huffman tree and store it\n",
    "# in minHeap\n",
    "def HuffmanCodes(size):\n",
    "    global minHeap\n",
    "    for key in freq:\n",
    "        minHeap.append(MinHeapNode(key, freq[key]))\n",
    "    heapq.heapify(minHeap)\n",
    "    while len(minHeap) != 1:\n",
    "        left = heapq.heappop(minHeap)\n",
    "        right = heapq.heappop(minHeap)\n",
    "        top = MinHeapNode('$', left.freq + right.freq)\n",
    "        top.left = left\n",
    "        top.right = right\n",
    "        heapq.heappush(minHeap, top)\n",
    "    storeCodes(minHeap[0], \"\")\n",
    "\n",
    "# utility function to store map each character with its\n",
    "# frequency in input string\n",
    "def calcFreq(str, n):\n",
    "    for i in range(n):\n",
    "        freq[str[i]] += 1\n",
    "\n",
    "# function iterates through the encoded string s\n",
    "# if s[i]=='1' then move to node->right\n",
    "# if s[i]=='0' then move to node->left\n",
    "# if leaf node append the node->data to our output string\n",
    "def decode_file(root, s):\n",
    "    ans = \"\"\n",
    "    curr = root\n",
    "    n = len(s)\n",
    "    for i in range(n):\n",
    "        if s[i] == '0':\n",
    "            curr = curr.left\n",
    "        else:\n",
    "            curr = curr.right\n",
    "\n",
    "        # reached leaf node\n",
    "        if curr.left is None and curr.right is None:\n",
    "            ans += curr.data\n",
    "            curr = root\n",
    "    return ans + '\\0'\n",
    "\n",
    "# Driver code\n",
    "if __name__ == \"__main__\":\n",
    "    minHeap = []\n",
    "    str = \"AABBBCCCDDDDDEEEEEFFFFFGGGGGHHHHHIIII\"\n",
    "    encodedString, decodedString = \"\", \"\"\n",
    "    calcFreq(str, len(str))\n",
    "    HuffmanCodes(len(str))\n",
    "    print(\"Character With there Frequencies:\")\n",
    "    for key in sorted(codes):\n",
    "        print(key, codes[key])\n",
    "\n",
    "    for i in str:\n",
    "        encodedString += codes[i]\n",
    "\n",
    "    print(\"\\nEncoded Huffman data:\")\n",
    "    print(encodedString)\n",
    "\n",
    "    # Function call\n",
    "    decodedString = decode_file(minHeap[0], encodedString)\n",
    "    print(\"\\nDecoded Huffman Data:\")\n",
    "    print(decodedString)"
   ]
  },
  {
   "cell_type": "markdown",
   "id": "050ff5d5-a94e-4f30-bad3-3a26f9266af2",
   "metadata": {},
   "source": [
    "### Відповіді на контрольні питання"
   ]
  },
  {
   "cell_type": "markdown",
   "id": "eafc855e-51f9-48f0-94ae-88129c31a977",
   "metadata": {},
   "source": [
    "1. Що таке жадібні алгоритми?\n",
    "\\\n",
    "Жадібні алгоритми — це алгоритми, які приймають найкраще локальне рішення на кожному кроці з надією отримати глобально оптимальне рішення.\n",
    "\n",
    "2. Що таке префіксний код? Який код використовується у коді Гафмена?\n",
    "\\\n",
    "Префіксний код — це код, у якому жоден код слова не є префіксом іншого. У коді Гафмена використовується саме **префіксний двійковий код**.\n",
    "\n",
    "3. Як пов’язана структура даних «купа» зі структурою даних «черга з пріоритетами»?\n",
    "\\\n",
    "Купа (heap) — це ефективна реалізація черги з пріоритетами, яка дозволяє швидко знаходити й видаляти елемент з найвищим (або найнижчим) пріоритетом.\n",
    "\n",
    "4. Що таке стиснення даних і для чого воно використовується? Які його основні переваги?\n",
    "\\\n",
    "Стиснення — це процес зменшення розміру даних для економії пам’яті або пропускної здатності. Переваги: менше місця на диску, швидша передача через мережу, пришвидшення обробки.\n",
    "\n",
    "5. Які кроки необхідно виконати для стиснення даних за допомогою алгоритму кодування Гафмена?\n",
    "   1. Обчислити частоти символів.\n",
    "   2. Створити вузли для кожного символу.\n",
    "   3. Побудувати дерево Гафмена з купою.\n",
    "   4. Призначити коди символам.\n",
    "   5. Замінити символи у даних на відповідні коди.\n",
    "\n",
    "\n",
    "6. Які основні обмеження та недоліки алгоритму кодування Гафмена? Чи можливо покращити його продуктивність?\n",
    "\\\n",
    "Недоліки: неефективний для коротких повідомлень або символів з майже однаковими частотами. Можна покращити, наприклад, за допомогою адаптивного або арифметичного кодування.\n",
    "\n",
    "7. Які існують альтернативні методи стиснення даних, що можуть конкурувати з алгоритмом Гафмена?\n",
    "   - Арифметичне кодування\n",
    "   - LZ77, LZ78, LZW\n",
    "   - BWT (Burrows-Wheeler Transform)\n",
    "   - RLE (Run-Length Encoding)\n",
    "\n",
    "8. Які практичні застосування можуть мати алгоритми стиснення даних, зокрема алгоритм Гафмена, у сучасних інформаційних системах?\n",
    "   - Архіватори (ZIP, RAR)\n",
    "   - Формати файлів (JPEG, MP3, PNG)\n",
    "   - Передача даних через мережу\n",
    "   - Бази даних, кешування та системи з обмеженим простором"
   ]
  }
 ],
 "metadata": {
  "kernelspec": {
   "display_name": "Python 3 (ipykernel)",
   "language": "python",
   "name": "python3"
  },
  "language_info": {
   "codemirror_mode": {
    "name": "ipython",
    "version": 3
   },
   "file_extension": ".py",
   "mimetype": "text/x-python",
   "name": "python",
   "nbconvert_exporter": "python",
   "pygments_lexer": "ipython3",
   "version": "3.13.2"
  }
 },
 "nbformat": 4,
 "nbformat_minor": 5
}

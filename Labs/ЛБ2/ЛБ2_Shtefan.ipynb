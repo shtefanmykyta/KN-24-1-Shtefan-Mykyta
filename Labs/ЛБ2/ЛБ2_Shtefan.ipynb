{
 "cells": [
  {
   "cell_type": "markdown",
   "id": "0f24b91f-1216-43d7-b8a6-29813fcf7bbf",
   "metadata": {},
   "source": [
    "# Звіт з лабораторної роботи №2"
   ]
  },
  {
   "cell_type": "markdown",
   "id": "a45aef11-663b-4709-b27e-1629e5dda448",
   "metadata": {},
   "source": [
    "Виконав студент групи КН-24-1 Штефан М. І."
   ]
  },
  {
   "cell_type": "markdown",
   "id": "c4d8068e-43df-4647-84b1-04dacdf51938",
   "metadata": {},
   "source": [
    "Тема: Налагоджування та робота в середовищі Anaconda+Quarto\n",
    "<p>Мета: швидкий старт для роботи в середовищі Anaconda із застосуванням Jupyter Notebook, або Jupyter Notebook засобами мови програмування Python та видавничої системи Quarto"
   ]
  },
  {
   "cell_type": "markdown",
   "id": "bcdb1114-14b7-4871-bca9-6d332d4ad73f",
   "metadata": {},
   "source": [
    "<center>Хід роботи</center>"
   ]
  },
  {
   "cell_type": "markdown",
   "id": "a61a1684-4b2d-43e2-a6d8-db415d294b22",
   "metadata": {},
   "source": [
    "1. Встановлення Anaconda\n",
    "<p>Було завантажено та встановлено збірку Python Anaconda."
   ]
  },
  {
   "cell_type": "markdown",
   "id": "a498ac88-52f6-4a50-b4bb-a4897682b206",
   "metadata": {},
   "source": [
    "![Збірка Python Anaconda](Pictures/1.PNG)"
   ]
  },
  {
   "cell_type": "markdown",
   "id": "34cd220a-9ced-4306-b3b8-bc60cf7c9cd7",
   "metadata": {},
   "source": [
    "2. Налаштування віртуального середовища\n",
    "<p>У командному рядку було виконано наступні команди для створення середовища:\n",
    "<p>conda create --name StudentLastName_OpenCV python=3.10\n",
    "<p>Середовище активовано командою:\n",
    "<p>conda activate StudentLastName_OpenCV\n"
   ]
  },
  {
   "cell_type": "markdown",
   "id": "a810f4f1-6b06-482c-b7f8-c48bc30da1aa",
   "metadata": {},
   "source": [
    "![Віртуальне середовище](Pictures/2.PNG)"
   ]
  },
  {
   "cell_type": "markdown",
   "id": "55f417e6-2fd8-4940-8842-06832c0654db",
   "metadata": {},
   "source": [
    "3. Інсталяція необхідних пакетів\n",
    "<p>Для роботи з OpenCV були встановлені такі пакети:\n",
    "<p>conda install -c conda-forge opencv\n",
    "<p>conda install numpy\n",
    "<p>conda install matplotlib"
   ]
  },
  {
   "cell_type": "markdown",
   "id": "dee59ff6-2abd-44b3-9491-8e5a3ca5a9a6",
   "metadata": {},
   "source": [
    "![Встановлення OpenCV](Pictures/3.PNG)"
   ]
  },
  {
   "cell_type": "markdown",
   "id": "7ddd5a63-e1fa-4d62-a0a6-78acfca74110",
   "metadata": {},
   "source": [
    "4. Створення Jupyter Notebook\n",
    "<p>Створено документ lab_2_StudentLastName.ipynb, у якому виконані завдання.\n",
    "\n",
    "5. Подав в робочому документі («зошиті» ipython) виконання пунктів 1–3 індивідуального завдання."
   ]
  },
  {
   "cell_type": "markdown",
   "id": "56cfb9a6-63b7-46a1-ac0c-dc7601f32627",
   "metadata": {},
   "source": [
    "6. Відповіді на контрольні питання\n",
    "1) Що таке pip і conda та чим вони відрізняються між собою?\n",
    "<p>pip – це менеджер пакетів для Python, який використовується для встановлення бібліотек із PyPI.\n",
    "<p>conda – це менеджер пакетів та середовищ, який використовується в Anaconda для встановлення бібліотек та керування залежностями.\n",
    "\n",
    "2) Як виглядатиме виконання пунктів 1–3 індивідуального завдання за допомогою Virtualenv?\n",
    "<p>Створення віртуального середовища: python -m venv myenv\n",
    "<p>Активація: source myenv/bin/activate (Linux/macOS) або myenv\\Scripts\\activate (Windows)\n",
    "<p>Встановлення бібліотек: pip install opencv-python numpy matplotlib\n",
    "\n",
    "3) Імпортував своє зображення у форматі .png.\n",
    "\n",
    "4) Процедура сортування масиву методом бульбашки:"
   ]
  },
  {
   "cell_type": "code",
   "execution_count": 5,
   "id": "235600f5-6315-43be-8077-584086b355a3",
   "metadata": {},
   "outputs": [],
   "source": [
    "#def bubble_sort(arr):\n",
    "#n = len(arr)\n",
    "#for i in range(n):\n",
    "#for j in range(0, n-i-1):\n",
    "#if arr[j] > arr[j+1]:\n",
    "#arr[j], arr[j+1] = arr[j+1], arr[j]\n",
    "#return arr"
   ]
  },
  {
   "cell_type": "markdown",
   "id": "7d8c7e0e-431b-4c35-b382-9fc1f66492fa",
   "metadata": {},
   "source": [
    "5)\tКомпіляція Jupyter Notebook без командного рядка\n",
    "<p>Використання меню File -> Download as -> HTML (.html).\n",
    "\n",
    "6)\tКомпіляція документа у Quarto\n",
    "<P>Виконати команду в середовищі Quarto:\n",
    "<p>quarto render lab_2_StudentLastName.ipynb --to html"
   ]
  },
  {
   "cell_type": "markdown",
   "id": "a44b80d7-d19b-4c11-ac76-413a25a16574",
   "metadata": {},
   "source": [
    "7. Створення звіту у форматі .html\n",
    "<p>Було виконано команду для компіляції у HTML:\n",
    "<p>jupyter nbconvert lab_2_StudentLastName.ipynb --to html"
   ]
  }
 ],
 "metadata": {
  "kernelspec": {
   "display_name": "Python 3 (ipykernel)",
   "language": "python",
   "name": "python3"
  },
  "language_info": {
   "codemirror_mode": {
    "name": "ipython",
    "version": 3
   },
   "file_extension": ".py",
   "mimetype": "text/x-python",
   "name": "python",
   "nbconvert_exporter": "python",
   "pygments_lexer": "ipython3",
   "version": "3.13.2"
  }
 },
 "nbformat": 4,
 "nbformat_minor": 5
}

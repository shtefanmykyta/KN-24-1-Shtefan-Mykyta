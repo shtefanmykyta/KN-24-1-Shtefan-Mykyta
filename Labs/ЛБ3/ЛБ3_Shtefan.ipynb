{
 "cells": [
  {
   "cell_type": "markdown",
   "id": "70a5f655-644f-4960-b6ea-f0b8ed6f2d7d",
   "metadata": {},
   "source": [
    "# Звіт з лабораторної роботи №3"
   ]
  },
  {
   "cell_type": "markdown",
   "id": "ebd691f5-9072-4cd7-a4f5-0fba8755a79a",
   "metadata": {},
   "source": [
    "Виконав студент групи КН-24-1 Озівський В. В."
   ]
  },
  {
   "cell_type": "markdown",
   "id": "1d97d447-99ff-4e8b-9b18-84fee32e3a08",
   "metadata": {},
   "source": [
    "Тема: Аналіз складності алгоритмів. Алгоритми сортування\n",
    "\\\n",
    "Мета: засвоїти аналіз складності алгоритмів як технологію на прикладі алгоритмів сортування методами включення та обміну."
   ]
  },
  {
   "cell_type": "markdown",
   "id": "60d4716a-4105-49b5-a04e-a47c358ae41c",
   "metadata": {},
   "source": [
    "### <center>Хід роботи</center>"
   ]
  },
  {
   "cell_type": "markdown",
   "id": "c8dbe38b-21cf-4eae-aea9-b20fe4f16ce1",
   "metadata": {},
   "source": [
    "1. Завантажив Python Anaconda та активував в ньому віртуальне середовище, створене під час виконання попередньої лабораторної роботи."
   ]
  },
  {
   "cell_type": "markdown",
   "id": "ae442d7e-2c70-4271-9113-1fabe9b1e5f0",
   "metadata": {},
   "source": [
    "2. Створив Notebook-документ \\<lab_3_StudentLastName\\> за допомогою Jupyter Notebook"
   ]
  },
  {
   "cell_type": "markdown",
   "id": "16095fc0-6d91-413f-ba6f-d111180d74ec",
   "metadata": {},
   "source": [
    "3. Теоретичний аналіз:\n",
    "- Метод вставок: $O(n^2)$ у найгіршому випадку, $O(n)$ у найкращому (відсортований масив).\n",
    "- Метод бульбашки: $𝑂(𝑛^2)$ у найгіршому випадку, $O(n)$ у найкращому."
   ]
  },
  {
   "cell_type": "markdown",
   "id": "de2d2ced-9236-4e87-b145-c0d63fcc3e32",
   "metadata": {},
   "source": [
    "4. Реалізація алгоритму бульбашкового сорту на Python."
   ]
  },
  {
   "cell_type": "code",
   "execution_count": null,
   "id": "055884df-598a-49ea-94e8-34bd9d95a20a",
   "metadata": {},
   "outputs": [],
   "source": [
    "def bubble_sort(arr):\n",
    "    n = len(arr)\n",
    "    for i in range(n):\n",
    "        swapped = False\n",
    "        for j in range(0, n - i - 1):\n",
    "            if arr[j] > arr[j + 1]:\n",
    "                arr[j], arr[j + 1] = arr[j + 1], arr[j]\n",
    "                swapped = True\n",
    "        if not swapped:\n",
    "            break"
   ]
  },
  {
   "cell_type": "markdown",
   "id": "721a8790-0f35-4095-ac37-5d6d6619b665",
   "metadata": {},
   "source": [
    "5. Дослідив реальний час виконання обох алгоритмів на Python і побудував графіки залежностей 𝑇𝑖𝑛𝑠𝑒𝑟𝑡(𝑛) та 𝑇𝑏𝑢𝑏𝑙𝑒(𝑛)\n",
    "\\\n",
    "для 𝑛 = [5, 10, 50, 100, 500, 1000, 2000, 3000, 4000, 5000, 10000], згенерувавши відповідні цілочисельні масиви."
   ]
  },
  {
   "cell_type": "code",
   "execution_count": null,
   "id": "4c8aac85-a824-4482-b90b-45d0d216847a",
   "metadata": {},
   "outputs": [],
   "source": [
    "import time\n",
    "import numpy as np\n",
    "import matplotlib.pyplot as plt\n",
    "\n",
    "def insertion_sort(arr):\n",
    "    for i in range(1, len(arr)):\n",
    "        key = arr[i]\n",
    "        j = i - 1\n",
    "        while j >= 0 and arr[j] > key:\n",
    "            arr[j + 1] = arr[j]\n",
    "            j -= 1\n",
    "        arr[j + 1] = key\n",
    "\n",
    "def bubble_sort(arr):\n",
    "    n = len(arr)\n",
    "    for i in range(n):\n",
    "        swapped = False\n",
    "        for j in range(0, n - i - 1):\n",
    "            if arr[j] > arr[j + 1]:\n",
    "                arr[j], arr[j + 1] = arr[j + 1], arr[j]\n",
    "                swapped = True\n",
    "        if not swapped:\n",
    "            break\n",
    "\n",
    "def measure_time(sort_func, arr):\n",
    "    start_time = time.perf_counter()\n",
    "    sort_func(arr.copy())\n",
    "    return time.perf_counter() - start_time\n",
    "\n",
    "sizes = [5, 10, 50, 100, 500, 1000, 2000, 3000, 4000, 5000, 10000]\n",
    "insertion_times = []\n",
    "bubble_times = []\n",
    "\n",
    "for size in sizes:\n",
    "    arr = np.random.randint(0, 10000, size)\n",
    "    insertion_times.append(measure_time(insertion_sort, arr))\n",
    "    bubble_times.append(measure_time(bubble_sort, arr))\n",
    "\n",
    "plt.plot(sizes, insertion_times, label='Insertion Sort', marker='o')\n",
    "plt.plot(sizes, bubble_times, label='Bubble Sort', marker='s')\n",
    "plt.xlabel('Array Size')\n",
    "plt.ylabel('Time (seconds)')\n",
    "plt.title('Sorting Algorithms Performance')\n",
    "plt.legend()\n",
    "plt.grid()\n",
    "plt.show()\n"
   ]
  },
  {
   "cell_type": "markdown",
   "id": "35232865-d9c2-4114-98e8-b3cbccaf0d58",
   "metadata": {},
   "source": [
    "Графік часу виконання обох методів сортування."
   ]
  },
  {
   "cell_type": "markdown",
   "id": "c245c37c-5c09-44e2-8a5f-51352383fd12",
   "metadata": {},
   "source": [
    "![Гріфік](Pictures/1.png)"
   ]
  },
  {
   "cell_type": "markdown",
   "id": "2ca94622-795a-4a8b-aa8d-00f2747a46a5",
   "metadata": {},
   "source": [
    "### Відповіді на контрольні питання\n",
    "\n",
    "1. Що таке O-нотація і чим вона відрізняється від Ω-нотації?\n",
    "- O-нотація описує верхню межу зростання часу алгоритму (найгірший випадок).  \n",
    "- Ω-нотація описує нижню межу зростання часу (найкращий випадок).  \n",
    "\n",
    "Приклад:  \n",
    "Якщо алгоритм працює за $5N^2 + 3N$:  \n",
    "- O-нотація: $O(N^2)$ (не більше, ніж $kN^2$.  \n",
    "- Ω-нотація: $Ω(N^2)$ (не менше, ніж $cN^2$.  \n",
    "\n",
    "2. Яку часову складність має алгоритм сортування методом вставляння за найсприятливіших умов?\n",
    "\\\n",
    "При відсортованому масиві алгоритм лише перевіряє елементи, без перестановок.  \n",
    "- Кількість порівнянь: $O(N)$.  \n",
    "- Кількість перестановок: $0$.  \n",
    "- Загальна складність: $O(N)$.  \n",
    "\n",
    "3. Надати визначення ефективного алгоритму.\n",
    "\\\n",
    "Ефективний алгоритм – це алгоритм, який виконує задачу з мінімальними витратами ресурсів (часу та пам'яті).  \n",
    "\n",
    "Критерії:  \n",
    "- Часова складність – скільки кроків потрібно.  \n",
    "- Просторова складність – скільки пам’яті використовується.  \n",
    "\n",
    "Приклад:  \n",
    "- Merge Sort $O(N \\log N)$ ефективніше за Bubble Sort $O(N^2)$.  \n",
    "\n",
    "4. Пояснити поняття головного параметра (розміру) завдання.\n",
    "\\\n",
    "Головний параметр – це розмір вхідних даних, що впливає на продуктивність алгоритму.  \n",
    "\n",
    "Приклади:  \n",
    "- У сортуванні – $N$ (кількість елементів).  \n",
    "- У пошуку в графі – кількість вершин або ребер.  \n",
    "- У криптографії – довжина ключа.  \n",
    "\n",
    "5. Як записати асимптотичну складність $F(N) = N^3 + 7N^2 - 14N$ у O-нотації?\n",
    "\\\n",
    "Залишаємо найшвидше зростаючий член і відкидаємо константи: $O(N^3)$  "
   ]
  }
 ],
 "metadata": {
  "kernelspec": {
   "display_name": "Python 3 (ipykernel)",
   "language": "python",
   "name": "python3"
  },
  "language_info": {
   "codemirror_mode": {
    "name": "ipython",
    "version": 3
   },
   "file_extension": ".py",
   "mimetype": "text/x-python",
   "name": "python",
   "nbconvert_exporter": "python",
   "pygments_lexer": "ipython3",
   "version": "3.13.2"
  }
 },
 "nbformat": 4,
 "nbformat_minor": 5
}

{
 "cells": [
  {
   "cell_type": "markdown",
   "id": "70a5f655-644f-4960-b6ea-f0b8ed6f2d7d",
   "metadata": {},
   "source": [
    "# Звіт з лабораторної роботи №4"
   ]
  },
  {
   "cell_type": "markdown",
   "id": "ebd691f5-9072-4cd7-a4f5-0fba8755a79a",
   "metadata": {},
   "source": [
    "Виконав студент групи КН-24-1 Штефан М. І."
   ]
  },
  {
   "cell_type": "markdown",
   "id": "1d97d447-99ff-4e8b-9b18-84fee32e3a08",
   "metadata": {},
   "source": [
    "Тема: Рекурсія. Стратегія «розділяй і володарюй»\n",
    "\\\n",
    "Мета: засвоїти технологію реалізації рекурсивних алгоритмів засобами Python і оцінювання їх складності з використанням головної теореми рекурсії."
   ]
  },
  {
   "cell_type": "markdown",
   "id": "60d4716a-4105-49b5-a04e-a47c358ae41c",
   "metadata": {},
   "source": [
    "### <center>Хід роботи</center>"
   ]
  },
  {
   "cell_type": "markdown",
   "id": "c8dbe38b-21cf-4eae-aea9-b20fe4f16ce1",
   "metadata": {},
   "source": [
    "1. Реалізував процедуру обчислення факторіалу за допомогою циклу for"
   ]
  },
  {
   "cell_type": "code",
   "execution_count": 9,
   "id": "9546b87f-a64b-4d81-bd81-db750b1d2461",
   "metadata": {},
   "outputs": [],
   "source": [
    "def factorial(n):\n",
    "    result = 1\n",
    "    for i in range(2, n + 1):\n",
    "        result *= i\n",
    "    return result"
   ]
  },
  {
   "cell_type": "markdown",
   "id": "16095fc0-6d91-413f-ba6f-d111180d74ec",
   "metadata": {},
   "source": [
    "2. Асимптотична складність рекурсивного алгоритму обчислення факторіалу: $O(N)$"
   ]
  },
  {
   "cell_type": "code",
   "execution_count": 12,
   "id": "70084a27-3cd8-4db9-bb8e-97d4b57e8d6b",
   "metadata": {},
   "outputs": [],
   "source": [
    "def fac(n): \n",
    " if n == 0:\n",
    "     return(1)\n",
    " return fac(n-1) * n"
   ]
  },
  {
   "cell_type": "markdown",
   "id": "cc7e514f-dedd-4101-aa85-b58726facb48",
   "metadata": {},
   "source": [
    "3. Асимптотична складність рекурсивного алгоритму обчислення 𝑛-го числа Фібоначчі: $O(2^N)$"
   ]
  },
  {
   "cell_type": "code",
   "execution_count": 11,
   "id": "c321153c-d529-402f-86de-05c760128dd3",
   "metadata": {},
   "outputs": [],
   "source": [
    "def fibonacci(n):\n",
    " if n == 0:\n",
    "     return 0\n",
    " if n in (1, 2):\n",
    "     return 1\n",
    " return fibonacci(n - 1) + fibonacci(n - 2)\n"
   ]
  },
  {
   "cell_type": "markdown",
   "id": "2a0837bb-1fc9-45ea-ba33-bc1680a863d3",
   "metadata": {},
   "source": [
    "4. Алгоритм MergeSort має рекурентне рівняння:\n",
    "$T(N)=2T(N/2)+O(N)$\n",
    "\\\n",
    "За головною теоремою рекурсії:\n",
    "\\\n",
    "$a=2$, $b=2$, $d=1$\n",
    "\\\n",
    "$log_2 2 = 1$\n",
    "\\\n",
    "оскільки $d= \\log_b a$, отримуємо $O(N \\log N)$."
   ]
  },
  {
   "cell_type": "code",
   "execution_count": 3,
   "id": "154dcd03-0f32-4cfb-a40f-b249d5c4e7e1",
   "metadata": {},
   "outputs": [],
   "source": [
    "def merge(left, right):\n",
    " #Зливає два відсортованих масиви left і right у один\n",
    " result = []\n",
    " i, j = 0, 0\n",
    " while i < len(left) and j < len(right):\n",
    "     if left[i] <= right[j]:\n",
    "         result.append(left[i])\n",
    "         i += 1\n",
    "     else:\n",
    "         result.append(right[j])\n",
    "         j += 1\n",
    "     result += left[i:]\n",
    "     result += right[j:]\n",
    "     return result\n",
    "     \n",
    "def mergesort(list):\n",
    " #Рекурсивна функція сортування з використанням попередньої функції\n",
    " if len(list) < 2:\n",
    "     return list\n",
    " middle = len(list) // 2\n",
    " left = mergesort(list[:middle])\n",
    " right = mergesort(list[middle:])\n",
    " return merge(left, right)"
   ]
  },
  {
   "cell_type": "markdown",
   "id": "2ca94622-795a-4a8b-aa8d-00f2747a46a5",
   "metadata": {},
   "source": [
    "### Відповіді на контрольні питання"
   ]
  },
  {
   "cell_type": "markdown",
   "id": "be8fa65c-0b4d-4cf9-b376-d619d4b4e68f",
   "metadata": {},
   "source": [
    "1. Складність із Ω — це нижня межа часу виконання алгоритму. Формально, $F(N)≥c⋅g(N)$ для $N≥N_0$\n",
    "\n",
    "2. Як записати асимптотичну складність $F(N) = N^3 + 7N^2 - 14N$ у O-нотації?\n",
    "\\\n",
    "Залишаємо найшвидше зростаючий член і відкидаємо константи: $O(N^3)$\n",
    "\n",
    "3. O-нотація для $F(N)=1.01N+N^{10}$\n",
    "\\\n",
    "$𝑂(𝑁^{10})$\n",
    "\n",
    "4. O-нотація для \n",
    "$𝐹(𝑁)=𝑁^{1.3}+ 10\\log_2 𝑁$\n",
    "\\\n",
    "$O(N^{1.3})$\n",
    "\n",
    "5. Розпаралелювання — поділ задачі на частини для одночасного виконання. Використовується для прискорення, особливо в задачах із великими масивами даних (сума, максимум, сортування тощо).\n",
    "\n",
    "6. Підвищення швидкості:\n",
    "- Оптимізація алгоритму\n",
    "- Використання ефективних структур даних\n",
    "- Розпаралелювання\n",
    "- Векторизація\n",
    "- Кешування\n",
    "\\\n",
    "Найефективніший метод — оптимізація алгоритму та розпаралелювання."
   ]
  }
 ],
 "metadata": {
  "kernelspec": {
   "display_name": "Python 3 (ipykernel)",
   "language": "python",
   "name": "python3"
  },
  "language_info": {
   "codemirror_mode": {
    "name": "ipython",
    "version": 3
   },
   "file_extension": ".py",
   "mimetype": "text/x-python",
   "name": "python",
   "nbconvert_exporter": "python",
   "pygments_lexer": "ipython3",
   "version": "3.13.2"
  }
 },
 "nbformat": 4,
 "nbformat_minor": 5
}

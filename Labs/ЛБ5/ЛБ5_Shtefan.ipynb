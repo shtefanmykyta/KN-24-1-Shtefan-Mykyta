{
 "cells": [
  {
   "cell_type": "markdown",
   "id": "70a5f655-644f-4960-b6ea-f0b8ed6f2d7d",
   "metadata": {},
   "source": [
    "# Звіт з лабораторної роботи №5"
   ]
  },
  {
   "cell_type": "markdown",
   "id": "ebd691f5-9072-4cd7-a4f5-0fba8755a79a",
   "metadata": {},
   "source": [
    "Виконав студент групи КН-24-1 Озівський В. В."
   ]
  },
  {
   "cell_type": "markdown",
   "id": "1d97d447-99ff-4e8b-9b18-84fee32e3a08",
   "metadata": {},
   "source": [
    "Тема: Алгоритми пошуку\n",
    "\\\n",
    "Мета: засвоїти варіанти реалізації алгоритмів пошуку засобами Python і методи оцінювання їх складності."
   ]
  },
  {
   "cell_type": "markdown",
   "id": "60d4716a-4105-49b5-a04e-a47c358ae41c",
   "metadata": {},
   "source": [
    "### <center>Хід роботи</center>"
   ]
  },
  {
   "cell_type": "markdown",
   "id": "897b172e-0132-454c-bdd2-8b944dfd0f10",
   "metadata": {},
   "source": [
    "Лінійний пошук.\n",
    "\\\n",
    "Одним з найпростіших алгоритмів пошуку є лінійний пошук. Сенс алгоритму полягає в тому, що пошук починають з першого елемента масиву. Якщо поточний елемент списку не дорівнює шуканому значенню, то здійснюється перехід до наступного елемента. Отже, унаслідок кожної перевірки сфера пошуку зменшується на один елемент."
   ]
  },
  {
   "cell_type": "code",
   "execution_count": 1,
   "id": "961ea0ad-6fc4-490a-accf-c705fc6c86d1",
   "metadata": {},
   "outputs": [],
   "source": [
    "# Якщо елемент не буде знайдено, виводиться -1\n",
    "def linear_search(a_list, x):\n",
    "    i, length = 0, len(a_list)\n",
    "    while i < length and x != a_list[i]:\n",
    "        i += 1\n",
    "    return i if i < length else -1 \n"
   ]
  },
  {
   "cell_type": "code",
   "execution_count": 2,
   "id": "edc6d4aa-0f11-491a-b5a9-409e1ee0cfb8",
   "metadata": {},
   "outputs": [
    {
     "name": "stdin",
     "output_type": "stream",
     "text": [
      "Введіть шуканий елемент:  7\n"
     ]
    }
   ],
   "source": [
    "search_item = int(input(\"Введіть шуканий елемент: \"))"
   ]
  },
  {
   "cell_type": "code",
   "execution_count": 3,
   "id": "af1e86f7-7b0a-4d60-8bc8-1b081bc8f23f",
   "metadata": {},
   "outputs": [
    {
     "data": {
      "text/plain": [
       "-1"
      ]
     },
     "execution_count": 3,
     "metadata": {},
     "output_type": "execute_result"
    }
   ],
   "source": [
    "a = [32, 1, 3, 4, 2, 1]\n",
    "linear_search(a, search_item)"
   ]
  },
  {
   "cell_type": "markdown",
   "id": "c2678793-c7c5-485e-a3b5-e343b662caf0",
   "metadata": {},
   "source": [
    "Бінарний пошук.\n",
    "\\\n",
    "Це класичний алгоритм пошуку елемента у відсортованому списку, який використовує поділ масиву на половини. Алгоритм можна реалізувати рекурсивно. "
   ]
  },
  {
   "cell_type": "code",
   "execution_count": 4,
   "id": "36be8b71-d49a-480e-b974-8b8462351d02",
   "metadata": {},
   "outputs": [],
   "source": [
    "def bin_search(a_list, x, left, right):\n",
    "    if left > right or len(a_list) == 0:\n",
    "        return -1\n",
    "    middle = (left + right) // 2\n",
    "    if a_list[middle] == x:\n",
    "        return middle\n",
    "    elif (a_list[middle] < x):\n",
    "        return bin_search(a_list, x, middle + 1, right)\n",
    "    else: # a_list[middle] > x\n",
    "        return bin_search(a_list, x, left, middle - 1)"
   ]
  },
  {
   "cell_type": "code",
   "execution_count": 5,
   "id": "77aebd0b-488f-45d9-8912-943305001754",
   "metadata": {},
   "outputs": [],
   "source": [
    "a = range(7,21)"
   ]
  },
  {
   "cell_type": "code",
   "execution_count": 6,
   "id": "0741e9ac-457b-42f8-9497-019fe7e15a41",
   "metadata": {},
   "outputs": [
    {
     "name": "stdin",
     "output_type": "stream",
     "text": [
      "Введіть шуканий елемент:  5\n"
     ]
    }
   ],
   "source": [
    "search_item = int(input(\"Введіть шуканий елемент: \"))"
   ]
  },
  {
   "cell_type": "code",
   "execution_count": 7,
   "id": "2e7899bd-e3e6-4b88-a74e-0d90a462f3ae",
   "metadata": {},
   "outputs": [
    {
     "data": {
      "text/plain": [
       "-1"
      ]
     },
     "execution_count": 7,
     "metadata": {},
     "output_type": "execute_result"
    }
   ],
   "source": [
    "bin_search(a, search_item, 0, len(a) - 1)"
   ]
  },
  {
   "cell_type": "markdown",
   "id": "6511b613-ae6f-494e-aceb-4ea4b01f5bb8",
   "metadata": {},
   "source": [
    "## Завдання для самостійної роботи:"
   ]
  },
  {
   "cell_type": "markdown",
   "id": "968def94-9984-471b-88c9-f59fda440540",
   "metadata": {},
   "source": [
    "1. Оцінити асимптотичну складність алгоритму лінійного пошуку:\n",
    "\\\n",
    "У лінійному пошуку в найгіршому випадку потрібно переглянути всі елементи масиву.\n",
    "\\\n",
    "Отже, асимптотична складність у найгіршому випадку: $O(n)$"
   ]
  },
  {
   "cell_type": "markdown",
   "id": "a0878a72-9466-4413-b93c-a8bceef2a8b2",
   "metadata": {},
   "source": [
    "2. Оцінити асимптотичну складність алгоритму бінарного пошуку:\n",
    "\\\n",
    "У бінарному пошуку на кожному кроці ми ділимо масив навпіл.\n",
    "\\\n",
    "Кількість кроків — приблизно $log_2 n$\n",
    "\\\n",
    "Отже, асимптотична складність у найгіршому випадку: O(log n)"
   ]
  },
  {
   "cell_type": "markdown",
   "id": "1c19c69f-2ef7-4520-b1be-f0b550790017",
   "metadata": {},
   "source": [
    "3. Написати функцію, яка б могла повертати датафрейм з таким складом  полів: («n», «time»), де n – розмір масиву для функції linear_searh(); \n",
    "\\\n",
    "Написати функцію, яка б могла повертати датафрейм з таким складом  полів: («n», «time»), де n – розмір масиву для функції bin_searh(); "
   ]
  },
  {
   "cell_type": "code",
   "execution_count": 11,
   "id": "079a93dd-9f7f-4ce7-889a-71409690e90f",
   "metadata": {},
   "outputs": [],
   "source": [
    "import time\n",
    "import pandas as pd\n",
    "import numpy as np\n",
    "\n",
    "# Лінійний пошук\n",
    "def linear_search(arr, target):\n",
    "    for i in range(len(arr)):\n",
    "        if arr[i] == target:\n",
    "            return i\n",
    "    return -1\n",
    "\n",
    "# Бінарний пошук\n",
    "def binary_search(arr, target):\n",
    "    left, right = 0, len(arr) - 1\n",
    "    while left <= right:\n",
    "        mid = (left + right) // 2\n",
    "        if arr[mid] == target:\n",
    "            return mid\n",
    "        elif arr[mid] < target:\n",
    "            left = mid + 1\n",
    "        else:\n",
    "            right = mid - 1\n",
    "    return -1\n",
    "\n",
    "# Функція для вимірювання часу лінійного пошуку\n",
    "def measure_linear_search():\n",
    "    n_values = []\n",
    "    times = []\n",
    "\n",
    "    for n in range(1000, 10001, 1000):\n",
    "        arr = np.random.randint(0, n*10, size=n)\n",
    "        target = arr[-1]  # Найгірший випадок\n",
    "\n",
    "        start_time = time.time()\n",
    "        linear_search(arr, target)\n",
    "        end_time = time.time()\n",
    "\n",
    "        n_values.append(n)\n",
    "        times.append(end_time - start_time)\n",
    "\n",
    "    return pd.DataFrame({'n': n_values, 'time': times})\n",
    "\n",
    "# Функція для вимірювання часу бінарного пошуку\n",
    "def measure_binary_search():\n",
    "    n_values = []\n",
    "    times = []\n",
    "\n",
    "    for n in range(1000, 10001, 1000):\n",
    "        arr = np.sort(np.random.randint(0, n*10, size=n))\n",
    "        target = arr[-1]\n",
    "\n",
    "        start_time = time.time()\n",
    "        binary_search(arr, target)\n",
    "        end_time = time.time()\n",
    "\n",
    "        n_values.append(n)\n",
    "        times.append(end_time - start_time)\n",
    "\n",
    "    return pd.DataFrame({'n': n_values, 'time': times})\n",
    "    "
   ]
  },
  {
   "cell_type": "markdown",
   "id": "d49c866c-7715-4e81-aebc-cdc34382cbd1",
   "metadata": {},
   "source": [
    "4. За результатами попередніх завдань побудувати графіки залежності часу виконання процедури пошуку від розміру масиву. "
   ]
  },
  {
   "cell_type": "code",
   "execution_count": 16,
   "id": "0718f330-06de-4cfa-9335-a9c5bd8a1f82",
   "metadata": {},
   "outputs": [
    {
     "data": {
      "image/png": "[encoded data removed]",
      "text/plain": [
       "<Figure size 1200x600 with 1 Axes>"
      ]
     },
     "metadata": {},
     "output_type": "display_data"
    }
   ],
   "source": [
    "import matplotlib.pyplot as plt\n",
    "\n",
    "# Збираємо дані\n",
    "df_linear = measure_linear_search()\n",
    "df_binary = measure_binary_search()\n",
    "\n",
    "# Будуємо графіки\n",
    "plt.figure(figsize=(12, 6))\n",
    "\n",
    "plt.plot(df_linear['n'], df_linear['time'], label='Linear Search', marker='o')\n",
    "plt.plot(df_binary['n'], df_binary['time'], label='Binary Search', marker='x')\n",
    "\n",
    "plt.xlabel('Розмір масиву (n)')\n",
    "plt.ylabel('Час виконання (секунди)')\n",
    "plt.title('Залежність часу пошуку від розміру масиву')\n",
    "plt.legend()\n",
    "plt.grid(True)\n",
    "plt.show()\n"
   ]
  },
  {
   "cell_type": "markdown",
   "id": "2ca94622-795a-4a8b-aa8d-00f2747a46a5",
   "metadata": {},
   "source": [
    "### Відповіді на контрольні питання"
   ]
  },
  {
   "cell_type": "markdown",
   "id": "be8fa65c-0b4d-4cf9-b376-d619d4b4e68f",
   "metadata": {},
   "source": [
    "1. Сформулювати задачу пошуку:\n",
    "\\\n",
    "Знайти елемент у заданій множині або визначити його відсутність.\n",
    "\n",
    "2. Критерії оцінювання ефективності алгоритмів пошуку:\n",
    "- Часова складність (швидкість роботи).\n",
    "- Просторова складність (пам'ять).\n",
    "- Стабільність результату.\n",
    "\n",
    "3. Лінійний пошук і його асимптотична складність:\n",
    "\\\n",
    "Перевірка кожного елемента масиву послідовно; складність $O(n)$.\n",
    "\n",
    "4. Бінарний пошук і головний принцип роботи:\n",
    "\\\n",
    "Пошук у відсортованому масиві шляхом поділу його навпіл на кожному кроці; складність $O(log n)$.\n",
    "\n",
    "5. Переваги і недоліки бінарного пошуку порівняно з лінійним:\n",
    "\\\n",
    "Переваги: швидший на великих масивах.\n",
    "\\\n",
    "Недоліки: вимагає попереднього сортування даних.\n",
    "\n",
    "6. Інші алгоритми пошуку:\n",
    "- Інтерполяційний пошук.\n",
    "- Пошук за хеш-таблицею.\n",
    "- Експоненційний пошук.\n",
    "- Фібоначчі-пошук.\n"
   ]
  }
 ],
 "metadata": {
  "kernelspec": {
   "display_name": "Python 3 (ipykernel)",
   "language": "python",
   "name": "python3"
  },
  "language_info": {
   "codemirror_mode": {
    "name": "ipython",
    "version": 3
   },
   "file_extension": ".py",
   "mimetype": "text/x-python",
   "name": "python",
   "nbconvert_exporter": "python",
   "pygments_lexer": "ipython3",
   "version": "3.13.2"
  }
 },
 "nbformat": 4,
 "nbformat_minor": 5
}

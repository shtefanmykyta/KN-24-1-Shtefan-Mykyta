{
 "cells": [
  {
   "cell_type": "markdown",
   "id": "70a5f655-644f-4960-b6ea-f0b8ed6f2d7d",
   "metadata": {},
   "source": [
    "# Звіт з лабораторної роботи №6"
   ]
  },
  {
   "cell_type": "markdown",
   "id": "ebd691f5-9072-4cd7-a4f5-0fba8755a79a",
   "metadata": {},
   "source": [
    "Виконав студент групи КН-24-1 Штефан М. І."
   ]
  },
  {
   "cell_type": "markdown",
   "id": "1d97d447-99ff-4e8b-9b18-84fee32e3a08",
   "metadata": {},
   "source": [
    "Тема: Структури даних стек і черга\n",
    "\\\n",
    "Мета: засвоїти головні функції та алгоритми роботи зі стеком і чергою засобами Python."
   ]
  },
  {
   "cell_type": "markdown",
   "id": "60d4716a-4105-49b5-a04e-a47c358ae41c",
   "metadata": {},
   "source": [
    "### <center>Хід роботи</center>"
   ]
  },
  {
   "cell_type": "markdown",
   "id": "897b172e-0132-454c-bdd2-8b944dfd0f10",
   "metadata": {},
   "source": [
    "Стек – це базова структура даних, у якій можна тільки вставляти або видаляти елементи на початку стека."
   ]
  },
  {
   "cell_type": "markdown",
   "id": "7abd115c-0d7a-44ac-a129-11eb3b907194",
   "metadata": {},
   "source": [
    "Операції зі стеком\n",
    "1. Stack() – створює новий пустий стек. Параметри не потрібні, повертає пустий стек.\n",
    "2. push(item) – додає новий елемент на вершину стека. Параметром є елемент; функція нічого не повертає.\n",
    "3. pop() – видаляє верхній елемент зі стека. Параметри не потребуються, функція повертає елемент. Стек змінюється.\n",
    "4. peek() – повертає верхній елемент стека, але не видаляє його. Параметри не потребуються, стек не модифікується.\n",
    "5. isEmpty() – перевіряє стек щодо пустоти. Параметри не потребуються, повертає бульове значення.\n",
    "6. size() – повертає кількість елементів у стеку. Параметри не потребуються, тип результату – ціле число."
   ]
  },
  {
   "cell_type": "code",
   "execution_count": 10,
   "id": "961ea0ad-6fc4-490a-accf-c705fc6c86d1",
   "metadata": {},
   "outputs": [],
   "source": [
    "# У стилі ООП\n",
    "class Stack:\n",
    "    def __init__(self):\n",
    "        self.items = []\n",
    "    def isEmpty(self):\n",
    "        return self.items == []\n",
    "    def push(self, item):\n",
    "        self.items.append(item)\n",
    "    def pop(self):\n",
    "        return self.items.pop()\n",
    "    def peek(self):\n",
    "        return self.items[-1]\n",
    "    def size(self):\n",
    "        return len(self.items)"
   ]
  },
  {
   "cell_type": "code",
   "execution_count": 5,
   "id": "edc6d4aa-0f11-491a-b5a9-409e1ee0cfb8",
   "metadata": {},
   "outputs": [
    {
     "name": "stdout",
     "output_type": "stream",
     "text": [
      "true\n"
     ]
    }
   ],
   "source": [
    "s = Stack()\n",
    "s.push('hello')\n",
    "s.push('true')\n",
    "print(s.pop())"
   ]
  },
  {
   "cell_type": "code",
   "execution_count": 6,
   "id": "af1e86f7-7b0a-4d60-8bc8-1b081bc8f23f",
   "metadata": {},
   "outputs": [
    {
     "name": "stdout",
     "output_type": "stream",
     "text": [
      "hello\n"
     ]
    }
   ],
   "source": [
    "print(s.pop())"
   ]
  },
  {
   "cell_type": "markdown",
   "id": "c2678793-c7c5-485e-a3b5-e343b662caf0",
   "metadata": {},
   "source": [
    "Черга – це впорядкована колекція елементів, у якій додавання нових елементів відбувається з одного кінця, що називається «хвостом черги», а видалення їх – з іншого («голова черги»)."
   ]
  },
  {
   "cell_type": "markdown",
   "id": "62bc2f80-97b8-4a93-aae6-6d3997ece2af",
   "metadata": {},
   "source": [
    "Операції з чергою\n",
    "1. Queue() Створює нову пусту чергу. Не потребує параметрів, повертає пусту чергу.\n",
    "2. enqueue(item) дає новий елемент у кінець черги. Потребує елемент як параметр, нічого не повертає.\n",
    "3. dequeue() видаляє з черги перший елемент. Не потребує параметрів, повертає елемент. Черга не змінюється.\n",
    "4. isEmpty() перевіряє чергу на пустоту. Не потребує параметрів, повертає булеве значення.\n",
    "5. size() повертає кількість елементів у черзі (ціле число). Не потребує параметрів."
   ]
  },
  {
   "cell_type": "code",
   "execution_count": 7,
   "id": "36be8b71-d49a-480e-b974-8b8462351d02",
   "metadata": {},
   "outputs": [],
   "source": [
    "class Queue:\n",
    "    def __init__(self):\n",
    "        self.items = []\n",
    "    def isEmpty(self):\n",
    "        return self.items == []\n",
    "    def enqueue(self, item):\n",
    "        self.items.insert(0,item)\n",
    "    def dequeue(self):\n",
    "        return self.items.pop()\n",
    "    def size(self):\n",
    "        return len(self.items)"
   ]
  },
  {
   "cell_type": "code",
   "execution_count": 8,
   "id": "77aebd0b-488f-45d9-8912-943305001754",
   "metadata": {},
   "outputs": [
    {
     "data": {
      "text/plain": [
       "1"
      ]
     },
     "execution_count": 8,
     "metadata": {},
     "output_type": "execute_result"
    }
   ],
   "source": [
    "q = Queue()\n",
    "q.isEmpty()\n",
    "q.enqueue(2)\n",
    "q.isEmpty()\n",
    "q.size()"
   ]
  },
  {
   "cell_type": "code",
   "execution_count": 9,
   "id": "0741e9ac-457b-42f8-9497-019fe7e15a41",
   "metadata": {},
   "outputs": [
    {
     "name": "stdout",
     "output_type": "stream",
     "text": [
      "[2]\n"
     ]
    }
   ],
   "source": [
    "print(q.items)"
   ]
  },
  {
   "cell_type": "markdown",
   "id": "6511b613-ae6f-494e-aceb-4ea4b01f5bb8",
   "metadata": {},
   "source": [
    "## Завдання для самостійної роботи:"
   ]
  },
  {
   "cell_type": "markdown",
   "id": "968def94-9984-471b-88c9-f59fda440540",
   "metadata": {},
   "source": [
    "1. Написати функцію pop_n(), що видаляє елементи стека з його початку до номера n включно. "
   ]
  },
  {
   "cell_type": "code",
   "execution_count": 11,
   "id": "97752811-b0d1-4186-a6a8-45e7fbf21e30",
   "metadata": {},
   "outputs": [],
   "source": [
    "def pop_n(stack, n):\n",
    "    for _ in range(min(n + 1, len(stack))):\n",
    "        stack.pop(0)  # видаляє з початку"
   ]
  },
  {
   "cell_type": "markdown",
   "id": "a0878a72-9466-4413-b93c-a8bceef2a8b2",
   "metadata": {},
   "source": [
    "2. Оцінити асимптотичну складність (у середньому і в найгіршому разі) процедур search, insert і delete роботи зі стеком."
   ]
  },
  {
   "cell_type": "markdown",
   "id": "48942baf-f81d-4deb-a4f7-79cad06b9eb6",
   "metadata": {},
   "source": [
    "Стек (Stack):\n",
    "\n",
    "\\\n",
    "search:\n",
    "- середній випадок — O(n),\n",
    "- найгірший випадок — O(n)\n",
    "\n",
    "\\\n",
    "insert (push):\n",
    "- середній випадок — O(1),\n",
    "- найгірший випадок — O(1)\n",
    "\n",
    "\\\n",
    "delete (pop):\n",
    "- середній випадок — O(1),\n",
    "- найгірший випадок — O(1)"
   ]
  },
  {
   "cell_type": "markdown",
   "id": "c4f2f3a8-92f4-47a1-8281-89cfe34464e3",
   "metadata": {},
   "source": [
    "3. Написати функцію print_n(), що друкує елементи черги з його початку до номера n включно; "
   ]
  },
  {
   "cell_type": "code",
   "execution_count": 12,
   "id": "5ed4de7a-2ec6-433b-91d6-3a27cdb298f2",
   "metadata": {},
   "outputs": [],
   "source": [
    "def print_n(queue, n):\n",
    "    for i in range(min(n + 1, len(queue))):\n",
    "        print(queue[i])"
   ]
  },
  {
   "cell_type": "markdown",
   "id": "7cc7f21f-c5f0-4633-a620-ee43467337cc",
   "metadata": {},
   "source": [
    "4. Оцінити асимптотичну складність (у середньому і в найгіршому разі) процедур search, insert і delete роботи з чергою. "
   ]
  },
  {
   "cell_type": "markdown",
   "id": "6ea95a72-78e6-49a6-bfbf-c5882f18666c",
   "metadata": {},
   "source": [
    "Черга (Queue):\n",
    "\n",
    "\\\n",
    "search: \n",
    "- середній випадок — O(n),\n",
    "- найгірший випадок — O(n)\n",
    "\n",
    "\\\n",
    "insert (enqueue): \n",
    "- середній випадок — O(1),\n",
    "- найгірший випадок — O(1)\n",
    "\n",
    "\\\n",
    "delete (dequeue): \n",
    "- середній випадок — O(1),\n",
    "- найгірший випадок — O(1)"
   ]
  },
  {
   "cell_type": "markdown",
   "id": "2ca94622-795a-4a8b-aa8d-00f2747a46a5",
   "metadata": {},
   "source": [
    "### Відповіді на контрольні питання"
   ]
  },
  {
   "cell_type": "markdown",
   "id": "be8fa65c-0b4d-4cf9-b376-d619d4b4e68f",
   "metadata": {},
   "source": [
    "1. Що таке стек і які операції можна виконувати зі стеком?\n",
    "\\\n",
    "Стек — це структура даних типу LIFO (останній увійшов — перший вийшов). \n",
    "\\\n",
    "Основні операції:\n",
    "- Stack() – створює новий пустий стек. Параметри не потрібні, повертає пустий стек.\n",
    "- push(item) – додає новий елемент на вершину стека. Параметром є елемент; функція нічого не повертає.\n",
    "- pop() – видаляє верхній елемент зі стека. Параметри не потребуються, функція повертає елемент. Стек змінюється.\n",
    "- peek() – повертає верхній елемент стека, але не видаляє його. Параметри не потребуються, стек не модифікується.\n",
    "- isEmpty() – перевіряє стек щодо пустоти. Параметри не потребуються, повертає бульове значення.\n",
    "- size() – повертає кількість елементів у стеку. Параметри не потребуються, тип результату – ціле число.\n",
    "\n",
    "2. Яка основна відмінність між стеком та чергою?\n",
    "\\\n",
    "Стек працює за принципом LIFO, а черга — за FIFO (перший увійшов — перший вийшов).\n",
    "\n",
    "3. Як можна реалізувати стек за допомогою масиву і зв’язаного списку? Які переваги та недоліки?\n",
    "\\\n",
    "Масив: простий у реалізації, швидкий доступ, але має фіксований розмір.\n",
    "\\\n",
    "Зв’язаний список: динамічний розмір, але потребує більше пам’яті і складніша реалізація.\n",
    "\n",
    "4. Які є застосування стека та черги в програмуванні і реальному житті?\n",
    "\\\n",
    "Стек: обробка викликів функцій, обхід дерев, скасування дій (Undo).\n",
    "\\\n",
    "Черга: планування задач, обробка запитів у мережі, друк документів."
   ]
  }
 ],
 "metadata": {
  "kernelspec": {
   "display_name": "Python 3 (ipykernel)",
   "language": "python",
   "name": "python3"
  },
  "language_info": {
   "codemirror_mode": {
    "name": "ipython",
    "version": 3
   },
   "file_extension": ".py",
   "mimetype": "text/x-python",
   "name": "python",
   "nbconvert_exporter": "python",
   "pygments_lexer": "ipython3",
   "version": "3.13.2"
  }
 },
 "nbformat": 4,
 "nbformat_minor": 5
}

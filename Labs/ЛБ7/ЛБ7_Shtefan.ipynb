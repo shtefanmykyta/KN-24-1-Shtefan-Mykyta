{
 "cells": [
  {
   "cell_type": "markdown",
   "id": "70a5f655-644f-4960-b6ea-f0b8ed6f2d7d",
   "metadata": {},
   "source": [
    "# Звіт з лабораторної роботи №7"
   ]
  },
  {
   "cell_type": "markdown",
   "id": "ebd691f5-9072-4cd7-a4f5-0fba8755a79a",
   "metadata": {},
   "source": [
    "Виконав студент групи КН-24-1 Штефан М. І."
   ]
  },
  {
   "cell_type": "markdown",
   "id": "1d97d447-99ff-4e8b-9b18-84fee32e3a08",
   "metadata": {},
   "source": [
    "Тема: Структури даних дерево, купа, геш-таблиця\n",
    "\\\n",
    "Мета: засвоїти основні функції та алгоритми роботи з деревами та купою засобами Python."
   ]
  },
  {
   "cell_type": "markdown",
   "id": "60d4716a-4105-49b5-a04e-a47c358ae41c",
   "metadata": {},
   "source": [
    "### <center>Хід роботи</center>"
   ]
  },
  {
   "cell_type": "markdown",
   "id": "6511b613-ae6f-494e-aceb-4ea4b01f5bb8",
   "metadata": {},
   "source": [
    "### Бінарне дерево "
   ]
  },
  {
   "cell_type": "markdown",
   "id": "968def94-9984-471b-88c9-f59fda440540",
   "metadata": {},
   "source": [
    "#### 1. Робота з бінарним деревом"
   ]
  },
  {
   "cell_type": "code",
   "execution_count": 8,
   "id": "72602e33-2aad-4a9a-94f5-dc671edd6360",
   "metadata": {},
   "outputs": [],
   "source": [
    "class Node:\n",
    "    def __init__(self, value):\n",
    "        self.value = value\n",
    "        self.left = None\n",
    "        self.right = None\n",
    "        \n",
    "class BinaryTree:\n",
    "    def __init__(self):\n",
    "        self.root = None\n",
    "        \n",
    "    def insert(self, value):\n",
    "        if not self.root:\n",
    "            self.root = Node(value)\n",
    "            return\n",
    "        \n",
    "        def _insert(node, value):\n",
    "            if value < node.value:\n",
    "                if node.left is None:\n",
    "                    node.left = Node(value)\n",
    "                else:\n",
    "                    _insert(node.left, value)\n",
    "            else:\n",
    "                if node.right is None:\n",
    "                    node.right = Node(value)\n",
    "                else:\n",
    "                    _insert(node.right, value)\n",
    "                    \n",
    "        _insert(self.root, value)\n",
    "    \n",
    "    def search(self, value):\n",
    "        def _search(node, value):\n",
    "            if node is None:\n",
    "                return False\n",
    "            if node.value == value:\n",
    "                return True\n",
    "            if value < node.value:\n",
    "                return _search(node.left, value)\n",
    "            return _search(node.right, value)\n",
    "        \n",
    "        return _search(self.root, value)"
   ]
  },
  {
   "cell_type": "markdown",
   "id": "be512400-33c4-4bbd-bf4f-9c92612a94c1",
   "metadata": {},
   "source": [
    "#### 2. Метод видалення заданої гілки дерева"
   ]
  },
  {
   "cell_type": "code",
   "execution_count": 9,
   "id": "fbe87fef-5b80-425a-9ac3-b9c8bfe35fb2",
   "metadata": {},
   "outputs": [],
   "source": [
    "def delete_branch(self, value):\n",
    "    def _delete_branch(node, parent, is_left, value):\n",
    "        if node is None:\n",
    "            return False\n",
    "        \n",
    "        if node.value == value:\n",
    "            if parent is None:\n",
    "                self.root = None\n",
    "            elif is_left:\n",
    "                parent.left = None\n",
    "            else:\n",
    "                parent.right = None\n",
    "            return True\n",
    "        \n",
    "        return (_delete_branch(node.left, node, True, value) or\n",
    "                _delete_branch(node.right, node, False, value))\n",
    "    \n",
    "    return _delete_branch(self.root, None, False, value)\n",
    "\n",
    "BinaryTree.delete_branch = delete_branch"
   ]
  },
  {
   "cell_type": "markdown",
   "id": "b134a21f-c39b-444c-832a-5e9a6695d02b",
   "metadata": {},
   "source": [
    "#### 3. Тестування коду"
   ]
  },
  {
   "cell_type": "code",
   "execution_count": 10,
   "id": "1577a91e-2a3e-4f9f-843d-9071b4475c60",
   "metadata": {},
   "outputs": [
    {
     "name": "stdout",
     "output_type": "stream",
     "text": [
      "Значення 30 присутнє: True\n",
      "Значення 90 присутнє: False\n",
      "Гілку з коренем 30 видалено: True\n",
      "Значення 30 присутнє після видалення: False\n",
      "Значення 20 присутнє після видалення: False\n",
      "Значення 40 присутнє після видалення: False\n",
      "Значення 50 присутнє: True\n",
      "Значення 70 присутнє: True\n"
     ]
    }
   ],
   "source": [
    "tree = BinaryTree()\n",
    "\n",
    "values = [50, 30, 70, 20, 40, 60, 80]\n",
    "for value in values:\n",
    "    tree.insert(value)\n",
    "\n",
    "print(f\"Значення 30 присутнє: {tree.search(30)}\")  # True\n",
    "print(f\"Значення 90 присутнє: {tree.search(90)}\")  # False\n",
    "\n",
    "deleted = tree.delete_branch(30)\n",
    "print(f\"Гілку з коренем 30 видалено: {deleted}\")  # True\n",
    "\n",
    "print(f\"Значення 30 присутнє після видалення: {tree.search(30)}\")  # False\n",
    "print(f\"Значення 20 присутнє після видалення: {tree.search(20)}\")  # False\n",
    "print(f\"Значення 40 присутнє після видалення: {tree.search(40)}\")  # False\n",
    "\n",
    "print(f\"Значення 50 присутнє: {tree.search(50)}\")  # True\n",
    "print(f\"Значення 70 присутнє: {tree.search(70)}\")  # True"
   ]
  },
  {
   "cell_type": "markdown",
   "id": "9b7d9046-1b8c-4634-ab95-c64140881f09",
   "metadata": {},
   "source": [
    "#### 4. Асимптотична складність операцій з бінарним деревом:"
   ]
  },
  {
   "cell_type": "markdown",
   "id": "908451aa-73d2-4c35-96ec-a258ed47b043",
   "metadata": {},
   "source": [
    "Search (Пошук):\n",
    "- У середньому випадку: O(log n)\n",
    "- У найгіршому випадку: O(n)\n",
    "\n",
    "Insert (Вставка):\n",
    "- У середньому випадку: O(log n)\n",
    "- У найгіршому випадку: O(n)\n",
    "\n",
    "Delete (Видалення):\n",
    "- У середньому випадку: O(log n)\n",
    "- У найгіршому випадку: O(n)"
   ]
  },
  {
   "cell_type": "markdown",
   "id": "36954f2d-0b8f-48b7-96e2-234480f10704",
   "metadata": {},
   "source": [
    "### Купа"
   ]
  },
  {
   "cell_type": "markdown",
   "id": "668be0e5-7195-4b9c-84d9-79aa6be57840",
   "metadata": {},
   "source": [
    "#### 1. Робота з купою"
   ]
  },
  {
   "cell_type": "code",
   "execution_count": 12,
   "id": "4666cb55-e94a-4b84-a6de-19cdc33f8e78",
   "metadata": {},
   "outputs": [],
   "source": [
    "def heapify(arr, n, i):\n",
    "    largest = i\n",
    "    left = 2 * i + 1\n",
    "    right = 2 * i + 2\n",
    "    \n",
    "    if left < n and arr[left] > arr[largest]:\n",
    "        largest = left\n",
    "    \n",
    "    if right < n and arr[right] > arr[largest]:\n",
    "        largest = right\n",
    "\n",
    "    if largest != i:\n",
    "        arr[i], arr[largest] = arr[largest], arr[i]\n",
    "        \n",
    "        heapify(arr, n, largest)\n",
    "\n",
    "def build_max_heap(arr):\n",
    "    n = len(arr)\n",
    "    \n",
    "    for i in range(n // 2 - 1, -1, -1):\n",
    "        heapify(arr, n, i)\n",
    "    \n",
    "    return arr"
   ]
  },
  {
   "cell_type": "markdown",
   "id": "6e8c7ed2-03b6-4b62-854d-25b01854078f",
   "metadata": {},
   "source": [
    "#### 2. Метод додаванння нового елемента"
   ]
  },
  {
   "cell_type": "code",
   "execution_count": 11,
   "id": "64052247-a76c-4dc2-b92a-888cbb2ddda5",
   "metadata": {},
   "outputs": [],
   "source": [
    "def insert_to_heap(heap, value):\n",
    "\n",
    "    heap.append(value)\n",
    "\n",
    "    current = len(heap) - 1\n",
    "\n",
    "    while current > 0:\n",
    "        parent = (current - 1) // 2\n",
    "        \n",
    "        if heap[current] > heap[parent]:\n",
    "            heap[current], heap[parent] = heap[parent], heap[current]\n",
    "            current = parent\n",
    "        else:\n",
    "            break\n",
    "    \n",
    "    return heap"
   ]
  },
  {
   "cell_type": "markdown",
   "id": "e1de41d3-ff1c-4afe-b76d-ba5f42739581",
   "metadata": {},
   "source": [
    "#### 3. Метод вилучення максимального елемента"
   ]
  },
  {
   "cell_type": "code",
   "execution_count": 21,
   "id": "815136b8-abc0-4ac1-95c4-1080f47a8089",
   "metadata": {},
   "outputs": [],
   "source": [
    "def extract_max(heap):\n",
    "\n",
    "    if not heap:\n",
    "        return None\n",
    "    \n",
    "    max_value = heap[0]\n",
    "    \n",
    "    heap[0] = heap[-1]\n",
    "    heap.pop()\n",
    "\n",
    "    if heap:\n",
    "        heapify(heap, len(heap), 0)\n",
    "    \n",
    "    return max_value"
   ]
  },
  {
   "cell_type": "markdown",
   "id": "f46d3608-b0bc-4453-9ed8-6541999070e2",
   "metadata": {},
   "source": [
    "#### 4. Тестування коду"
   ]
  },
  {
   "cell_type": "code",
   "execution_count": 22,
   "id": "0913e645-735f-40cd-9868-5e4358abf0de",
   "metadata": {},
   "outputs": [
    {
     "name": "stdout",
     "output_type": "stream",
     "text": [
      "Випадковий масив: [40, 24, 34, 38, 90, 84, 2, 97, 96, 37]\n",
      "Max-heap: [97, 96, 84, 40, 90, 34, 2, 38, 24, 37]\n",
      "Max-heap після додавання 19: [97, 96, 84, 40, 90, 34, 2, 38, 24, 37, 19]\n",
      "Максимальний елемент (вилучено): 97\n",
      "Куга після вилучення максимального елемента: [96, 90, 84, 40, 37, 34, 2, 38, 24, 19]\n"
     ]
    }
   ],
   "source": [
    "import random\n",
    "\n",
    "def generate_random_array(size, min_val, max_val):\n",
    "    return [random.randint(min_val, max_val) for _ in range(size)]\n",
    "\n",
    "arr = generate_random_array(10, 1, 100)\n",
    "print(f\"Випадковий масив: {arr}\")\n",
    "\n",
    "heap = build_max_heap(arr.copy())\n",
    "print(f\"Max-heap: {heap}\")\n",
    "\n",
    "heap_with_19 = insert_to_heap(heap.copy(), 19)\n",
    "print(f\"Max-heap після додавання 19: {heap_with_19}\")\n",
    "    \n",
    "max_value = extract_max(heap_with_19)\n",
    "print(f\"Максимальний елемент (вилучено): {max_value}\")\n",
    "print(f\"Купа після вилучення максимального елемента: {heap_with_19}\")"
   ]
  },
  {
   "cell_type": "markdown",
   "id": "b7b7e0e0-90a0-45c0-a3c5-012ea6b96b96",
   "metadata": {},
   "source": [
    "#### 5. Асимптотични складність операцій з купою"
   ]
  },
  {
   "cell_type": "markdown",
   "id": "e82904ef-eb69-4846-afe9-e5284f6d73a9",
   "metadata": {},
   "source": [
    "Search (Пошук):\n",
    "- У середньому випадку: O(n)\n",
    "- У найгіршому випадку: O(n)\n",
    "\n",
    "Insert (Вставка):\n",
    "- У середньому випадку: O(log n)\n",
    "- У найгіршому випадку: O(log n)\n",
    "\n",
    "Delete (Видалення максимуму):\n",
    "- У середньому випадку: O(log n)\n",
    "- У найгіршому випадку: O(log n)"
   ]
  },
  {
   "cell_type": "markdown",
   "id": "856253b0-37b8-4116-8f31-ee5195f82dc0",
   "metadata": {},
   "source": [
    "### Геш-таблиця"
   ]
  },
  {
   "cell_type": "markdown",
   "id": "e39637e4-e7df-41b1-af64-e2ef1db97ffa",
   "metadata": {},
   "source": [
    "#### 1. Роботи з геш-таблицею"
   ]
  },
  {
   "cell_type": "code",
   "execution_count": 3,
   "id": "cfc4e2b1-1970-4785-a364-96048cf9bc50",
   "metadata": {},
   "outputs": [],
   "source": [
    "class HashTable:\n",
    "    def __init__(self, size: int = 10):\n",
    "        self.size = size\n",
    "        self.table = [[] for _ in range(self.size)]\n",
    "    \n",
    "    def hash_function(self, key: Any) -> int:\n",
    "        return hash(key) % self.size\n",
    "    \n",
    "    def insert(self, key: Any, value: Any) -> None:\n",
    "        hash_index = self.hash_function(key)\n",
    "        \n",
    "        for i, (k, v) in enumerate(self.table[hash_index]):\n",
    "            if k == key:\n",
    "                self.table[hash_index][i] = (key, value)\n",
    "                return\n",
    "        \n",
    "        self.table[hash_index].append((key, value))\n",
    "    \n",
    "    def get(self, key: Any) -> Any:\n",
    "        hash_index = self.hash_function(key)\n",
    "        \n",
    "        for k, v in self.table[hash_index]:\n",
    "            if k == key:\n",
    "                return v\n",
    "                \n",
    "        return None\n",
    "    \n",
    "    def delete(self, key: Any) -> bool:\n",
    "        hash_index = self.hash_function(key)\n",
    "        \n",
    "        for i, (k, v) in enumerate(self.table[hash_index]):\n",
    "            if k == key:\n",
    "                del self.table[hash_index][i]\n",
    "                return True\n",
    "                \n",
    "        return False"
   ]
  },
  {
   "cell_type": "markdown",
   "id": "4fb21ee5-d7ec-4f92-9c1b-01053e8a9b52",
   "metadata": {},
   "source": [
    "#### 2. Тестування коду"
   ]
  },
  {
   "cell_type": "code",
   "execution_count": 9,
   "id": "57d3c434-6a45-4bda-9a53-25b1c1fc3dc8",
   "metadata": {},
   "outputs": [
    {
     "data": {
      "text/plain": [
       "<Figure size 1000x600 with 0 Axes>"
      ]
     },
     "metadata": {},
     "output_type": "display_data"
    },
    {
     "data": {
      "image/png": "[encoded data removed]",
      "text/plain": [
       "<Figure size 640x480 with 1 Axes>"
      ]
     },
     "metadata": {},
     "output_type": "display_data"
    }
   ],
   "source": [
    "import time\n",
    "import random\n",
    "import pandas as pd\n",
    "import matplotlib.pyplot as plt\n",
    "from typing import Any, Tuple\n",
    "\n",
    "class TestObject:\n",
    "    def __init__(self, value: int):\n",
    "        self.value = value\n",
    "    \n",
    "    def __hash__(self):\n",
    "        return hash(self.value)\n",
    "    \n",
    "    def __eq__(self, other):\n",
    "        return isinstance(other, TestObject) and self.value == other.value\n",
    "\n",
    "def generate_test_data(size: int) -> dict:\n",
    "    return {\n",
    "        'integers': [(i, i * 2) for i in range(size)],\n",
    "        'strings': [(f'key_{i}', f'value_{i}') for i in range(size)],\n",
    "        'objects': [(TestObject(i), i * 2) for i in range(size)]\n",
    "    }\n",
    "\n",
    "def test_operations(data_type: str, data: list[Tuple[Any, Any]]) -> dict:\n",
    "    hash_table = HashTable(size=100)\n",
    "    results = {'insert': 0, 'get': 0, 'delete': 0}\n",
    "    \n",
    "    start_time = time.time()\n",
    "    for key, value in data:\n",
    "        hash_table.insert(key, value)\n",
    "    results['insert'] = time.time() - start_time\n",
    "    \n",
    "    start_time = time.time()\n",
    "    for key, _ in data:\n",
    "        hash_table.get(key)\n",
    "    results['get'] = time.time() - start_time\n",
    "    \n",
    "    start_time = time.time()\n",
    "    for key, _ in data:\n",
    "        hash_table.delete(key)\n",
    "    results['delete'] = time.time() - start_time\n",
    "    \n",
    "    return results\n",
    "\n",
    "data_size = 1000\n",
    "test_data = generate_test_data(data_size)\n",
    "results = {}\n",
    "\n",
    "for data_type, data in test_data.items():\n",
    "    results[data_type] = test_operations(data_type, data)\n",
    "\n",
    "df = pd.DataFrame(results).T\n",
    "\n",
    "plt.figure(figsize=(10, 6))\n",
    "df.plot(kind='bar')\n",
    "plt.title('Час виконання операцій для різних типів даних')\n",
    "plt.xlabel('Тип даних')\n",
    "plt.ylabel('Час (секунди)')\n",
    "plt.xticks(rotation=45)\n",
    "plt.grid(True)\n",
    "plt.legend(['Вставка', 'Пошук', 'Видалення'])\n",
    "plt.tight_layout()\n"
   ]
  },
  {
   "cell_type": "markdown",
   "id": "050ff5d5-a94e-4f30-bad3-3a26f9266af2",
   "metadata": {},
   "source": [
    "### Відповіді на контрольні питання"
   ]
  },
  {
   "cell_type": "markdown",
   "id": "eafc855e-51f9-48f0-94ae-88129c31a977",
   "metadata": {},
   "source": [
    "1. Чим відрізняється структура бінарне дерево від бінарного дерева пошуку?\n",
    "\\\n",
    "Бінарне дерево — кожен вузол має до двох нащадків. Бінарне дерево пошуку (BST) — бінарне дерево, де лівий нащадок менший за вузол, правий — більший. BST забезпечує впорядкованість для ефективного пошуку.\n",
    "   \n",
    "2. Чим відрізняється структура бінарне дерево від бінарної купи?\n",
    "\\\n",
    "Бінарне дерево — довільна структура з до двома нащадками. Бінарна купа — повне бінарне дерево, де кожен вузол більший (макс-купа) або менший (мін-купа) за своїх нащадків, оптимізовано для доступу до екстремуму.\n",
    "\n",
    "3. Які існують типи дерев? Опишіть їхні основні характеристики та переваги.\n",
    "- Бінарне дерево пошуку (BST): Впорядкованість, швидкий пошук/вставка (O(log n) у середньому).\n",
    "- AVL-дерево: Самобалансуюче BST, гарантує O(log n) завдяки балансуванню.\n",
    "- Червоно-чорне дерево: Самобалансуюче, ефективне для частих вставок/видалень, O(log n).\n",
    "- B-дерево: Багато нащадків, оптимальне для дискового зберігання, O(log n).\n",
    "- Купа: Повне дерево, швидкий доступ до min/max, O(log n) для вставки/видалення.\n",
    "- Трі (Trie): Для рядків, швидкий пошук префіксів, O(m), де m — довжина ключа.\n",
    "\n",
    "4. Приклади задач, які ефективно вирішуються за допомогою дерев.\n",
    "- Пошук і сортування (BST).\n",
    "- Автодоповнення та пошук слів (Trie).\n",
    "- Індексація баз даних (B-дерево).\n",
    "- Планування завдань (купа).\n",
    "- Синтаксичний аналіз (дерево розбору).\n",
    "\n",
    "5. Як організована купа? Опишіть алгоритми додавання та вилучення елементів.\n",
    "\\\n",
    "Організація: Повне бінарне дерево, де батьківський вузол більший (макс-купа) або менший (мін-купа) за нащадків, часто реалізується як масив.\n",
    "\\\n",
    "Додавання: Додаємо елемент у кінець, просіюємо вгору (swap із батьком, якщо порушено умову купи), O(log n).\n",
    "\\\n",
    "Вилучення: Видаляємо корінь, переміщуємо останній елемент у корінь, просіюємо вниз (swap із більшим/меншим нащадком), O(log n).\n",
    "\n",
    "6. Які задачі можна ефективно вирішити за допомогою купи? Приклади.\n",
    "- Пріоритетні черги (планування завдань).\n",
    "- Алгоритм Дейкстри (пошук найкоротшого шляху).\n",
    "- Сортування (HeapSort, O(n log n)).\n",
    "- Пошук k-го найбільшого/найменшого елемента.\n",
    "\n",
    "7. Як геш-функція використовується для зберігання та пошуку даних в хеш-таблиці?\n",
    "\\\n",
    "Геш-функція перетворює ключ у числовий індекс (hash % розмір_таблиці), визначаючи позицію для зберігання/пошуку даних. Забезпечує швидкий доступ, O(1) у середньому.\n",
    "\n",
    "8. Методи вирішення колізій в хеш-таблицях. Переваги та недоліки.\n",
    "\n",
    "\\\n",
    "Ланцюжкове хешування: Кожна комірка — список.\n",
    "- Переваги: Простота, ефективність при малій кількості колізій.\n",
    "- Недоліки: Деградація до O(n) при багатьох колізіях.\n",
    "\n",
    "\\\n",
    "Відкрита адресація (лінійне зондування): Пошук наступної вільної комірки.\n",
    "- Переваги: Менше пам’яті, немає списків.\n",
    "- Недоліки: Кластеризація, погіршення продуктивності при високому заповненні.\n",
    "\n",
    "\\\n",
    "Подвійне хешування: Використання другої геш-функції для зондування.\n",
    "- Переваги: Менше кластеризації.\n",
    "- Недоліки: Складніша реалізація, чутливість до якості геш-функцій."
   ]
  }
 ],
 "metadata": {
  "kernelspec": {
   "display_name": "Python 3 (ipykernel)",
   "language": "python",
   "name": "python3"
  },
  "language_info": {
   "codemirror_mode": {
    "name": "ipython",
    "version": 3
   },
   "file_extension": ".py",
   "mimetype": "text/x-python",
   "name": "python",
   "nbconvert_exporter": "python",
   "pygments_lexer": "ipython3",
   "version": "3.13.2"
  }
 },
 "nbformat": 4,
 "nbformat_minor": 5
}

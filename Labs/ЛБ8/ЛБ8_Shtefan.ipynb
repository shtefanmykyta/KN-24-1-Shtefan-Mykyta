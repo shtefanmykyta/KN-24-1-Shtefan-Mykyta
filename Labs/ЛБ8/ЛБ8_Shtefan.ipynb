{
 "cells": [
  {
   "cell_type": "markdown",
   "id": "70a5f655-644f-4960-b6ea-f0b8ed6f2d7d",
   "metadata": {},
   "source": [
    "# Звіт з лабораторної роботи №8"
   ]
  },
  {
   "cell_type": "markdown",
   "id": "ebd691f5-9072-4cd7-a4f5-0fba8755a79a",
   "metadata": {},
   "source": [
    "Виконав студент групи КН-24-1 Штефан М. І."
   ]
  },
  {
   "cell_type": "markdown",
   "id": "1d97d447-99ff-4e8b-9b18-84fee32e3a08",
   "metadata": {},
   "source": [
    "Тема: Структура даних граф. Алгоритми на графах\n",
    "\\\n",
    "Мета: засвоїти представлення структури даних граф та основні алгоритми роботи з ними засобами Python."
   ]
  },
  {
   "cell_type": "markdown",
   "id": "60d4716a-4105-49b5-a04e-a47c358ae41c",
   "metadata": {},
   "source": [
    "### <center>Хід роботи</center>"
   ]
  },
  {
   "cell_type": "markdown",
   "id": "968def94-9984-471b-88c9-f59fda440540",
   "metadata": {},
   "source": [
    "#### 1. Власна реалізація класів Graph та Vertex"
   ]
  },
  {
   "cell_type": "code",
   "execution_count": 1,
   "id": "72602e33-2aad-4a9a-94f5-dc671edd6360",
   "metadata": {},
   "outputs": [],
   "source": [
    "import networkx as nx\n",
    "import matplotlib.pyplot as plt\n",
    "from collections import deque\n",
    "import numpy as np\n",
    "\n",
    "class Vertex:\n",
    "    def __init__(self, key):\n",
    "        self.id = key\n",
    "        self.connectedTo = {}\n",
    "    \n",
    "    def addNeighbor(self, nbr, weight=0):\n",
    "        self.connectedTo[nbr] = weight\n",
    "    \n",
    "    def __str__(self):\n",
    "        return str(self.id) + ' connectedTo: ' + str([x.id for x in self.connectedTo])\n",
    "    \n",
    "    def getConnections(self):\n",
    "        return self.connectedTo.keys()\n",
    "    \n",
    "    def getId(self):\n",
    "        return self.id\n",
    "    \n",
    "    def getWeight(self, nbr):\n",
    "        return self.connectedTo[nbr]\n",
    "\n",
    "class Graph:\n",
    "    def __init__(self):\n",
    "        self.vertList = {}\n",
    "        self.numVertices = 0\n",
    "    \n",
    "    def addVertex(self, key):\n",
    "        self.numVertices = self.numVertices + 1\n",
    "        newVertex = Vertex(key)\n",
    "        self.vertList[key] = newVertex\n",
    "        return newVertex\n",
    "    \n",
    "    def getVertex(self, n):\n",
    "        if n in self.vertList:\n",
    "            return self.vertList[n]\n",
    "        else:\n",
    "            return None\n",
    "    \n",
    "    def __contains__(self, n):\n",
    "        return n in self.vertList\n",
    "    \n",
    "    def addEdge(self, f, t, cost=0):\n",
    "        if f not in self.vertList:\n",
    "            nv = self.addVertex(f)\n",
    "        if t not in self.vertList:\n",
    "            nv = self.addVertex(t)\n",
    "        self.vertList[f].addNeighbor(self.vertList[t], cost)\n",
    "    \n",
    "    def getVertices(self):\n",
    "        return self.vertList.keys()\n",
    "    \n",
    "    def __iter__(self):\n",
    "        return iter(self.vertList.values())"
   ]
  },
  {
   "cell_type": "markdown",
   "id": "1d1877d6-ca75-4389-bd2e-b01a25c77c39",
   "metadata": {},
   "source": [
    "#### 2. Створення та візуалізація графа"
   ]
  },
  {
   "cell_type": "code",
   "execution_count": 26,
   "id": "708cb369-5974-4a17-9414-e89b45a9b66f",
   "metadata": {},
   "outputs": [],
   "source": [
    "# ================================\n",
    "# 2. СТВОРЕННЯ ТА ВІЗУАЛІЗАЦІЯ ГРАФА\n",
    "# ================================\n",
    "\n",
    "import networkx as nx\n",
    "import matplotlib.pyplot as plt\n",
    "\n",
    "def create_and_visualize_graph():\n",
    "   # Задаємо дані графа\n",
    "   edges = [\n",
    "       (6, 2, 8),   # з 6 до 2 з вагою 8\n",
    "       (6, 3, 7),   # з 6 до 3 з вагою 7\n",
    "       (3, 1, 3),   # з 3 до 1 з вагою 3\n",
    "       (3, 6, 8),   # з 3 до 6 з вагою 8\n",
    "       (1, 5, 2),   # з 1 до 5 з вагою 2\n",
    "       (2, 4, 7),   # з 2 до 4 з вагою 7\n",
    "       (2, 5, 1),   # з 2 до 5 з вагою 1\n",
    "       (5, 2, 4),   # з 5 до 2 з вагою 4\n",
    "       (5, 4, 1),   # з 5 до 4 з вагою 1\n",
    "   ]\n",
    "\n",
    "   # Створюємо орієнтований граф (DiGraph замість Graph)\n",
    "   G = nx.DiGraph()\n",
    "\n",
    "   # Додаємо ребра з вагами\n",
    "   for i, j, weight in edges:\n",
    "       G.add_edge(i, j, weight=weight)\n",
    "\n",
    "   # Створюємо словник ваг (використовується для відображення на графіку)\n",
    "   edge_labels = {(i, j): weight for i, j, weight in edges}\n",
    "\n",
    "   # Створюємо позиції вузлів для більш естетичного розташування\n",
    "   # Використовуємо циркулярне розташування і трохи підкоригуємо\n",
    "   pos = nx.circular_layout(G)\n",
    "\n",
    "   # Задаємо розмір рисунка\n",
    "   plt.figure(figsize=(10, 8))\n",
    "\n",
    "   # Малюємо вузли\n",
    "   nx.draw_networkx_nodes(G, pos, node_size=700, node_color='skyblue', edgecolors='black')\n",
    "\n",
    "   # Малюємо ребра з стрілками для орієнтованого графа\n",
    "   nx.draw_networkx_edges(G, pos, width=2, edge_color='gray', alpha=0.7)\n",
    "\n",
    "   # Додаємо підписи до вузлів\n",
    "   nx.draw_networkx_labels(G, pos, font_size=18, font_weight='bold')\n",
    "\n",
    "   # Додаємо підписи до ребер (ваги)\n",
    "   nx.draw_networkx_edge_labels(G, pos, edge_labels=edge_labels, font_size=14, font_color='red',\n",
    "                            font_weight='bold', rotate=False)\n",
    "\n",
    "   # Видаляємо осі\n",
    "   plt.axis('off')\n",
    "\n",
    "   # Додаємо заголовок\n",
    "   plt.title('Орієнтований зважений граф', fontsize=20, fontweight='bold', \n",
    "             pad=20)\n",
    "\n",
    "   # Показуємо графік\n",
    "   plt.tight_layout()\n",
    "   plt.show()\n",
    "   \n",
    "   return G"
   ]
  },
  {
   "cell_type": "markdown",
   "id": "9ace5f59-7d27-4218-917e-810d3bc3cee8",
   "metadata": {},
   "source": [
    "#### 3. Реалізація алгоритму Дейкстри"
   ]
  },
  {
   "cell_type": "code",
   "execution_count": 3,
   "id": "85164b6b-204e-4d8e-8ce1-30f0361ee3c0",
   "metadata": {},
   "outputs": [],
   "source": [
    "def dijkstra_algorithm(G):\n",
    "    # Перевіряємо чи існує вершина 1 в графі\n",
    "    if 1 not in G.nodes():\n",
    "        print(\"Вершина 1 не існує в графі\")\n",
    "        return\n",
    "    \n",
    "    try:\n",
    "        # Знаходження найкоротших шляхів від вершини 1\n",
    "        length, path = nx.single_source_dijkstra(G, 1)\n",
    "        \n",
    "        print(\"Найкоротші відстані від вершини 1:\")\n",
    "        for vertex in sorted(length.keys()):\n",
    "            print(f\"  До вершини {vertex}: {length[vertex]}\")\n",
    "        \n",
    "        print(\"\\nНайкоротші шляхи від вершини 1:\")\n",
    "        for vertex in sorted(path.keys()):\n",
    "            print(f\"  До вершини {vertex}: {' -> '.join(map(str, path[vertex]))}\")\n",
    "            \n",
    "    except nx.NetworkXNoPath as e:\n",
    "        print(f\"Помилка: {e}\")\n",
    "    except Exception as e:\n",
    "        print(f\"Помилка при виконанні алгоритму Дейкстри: {e}\")"
   ]
  },
  {
   "cell_type": "markdown",
   "id": "58c86abb-0ea2-418f-9f38-dc9912aa4c32",
   "metadata": {},
   "source": [
    "#### 4. Реалізація алгоритму Беллмана-Форда"
   ]
  },
  {
   "cell_type": "code",
   "execution_count": 5,
   "id": "94a4f0fd-e9ff-49a1-8ec1-6af0940b1613",
   "metadata": {},
   "outputs": [],
   "source": [
    "def bellman_ford_algorithm(G):\n",
    "    if 1 not in G.nodes():\n",
    "        print(\"Вершина 1 не існує в графі\")\n",
    "        return\n",
    "    \n",
    "    try:\n",
    "        # Знаходження найкоротших відстаней\n",
    "        length = nx.single_source_bellman_ford_path_length(G, 1)\n",
    "        paths = nx.single_source_bellman_ford_path(G, 1)\n",
    "        \n",
    "        print(\"Найкоротші відстані від вершини 1 (Беллман-Форд):\")\n",
    "        for vertex in sorted(length.keys()):\n",
    "            print(f\"  До вершини {vertex}: {length[vertex]}\")\n",
    "        \n",
    "        print(\"\\nНайкоротші шляхи від вершини 1 (Беллман-Форд):\")\n",
    "        for vertex in sorted(paths.keys()):\n",
    "            print(f\"  До вершини {vertex}: {' -> '.join(map(str, paths[vertex]))}\")\n",
    "            \n",
    "    except nx.NetworkXUnbounded:\n",
    "        print(\"Граф містить цикл з від'ємною вагою\")\n",
    "    except Exception as e:\n",
    "        print(f\"Помилка при виконанні алгоритму Беллмана-Форда: {e}\")"
   ]
  },
  {
   "cell_type": "markdown",
   "id": "d269873c-ac5c-4417-8449-6c50d950cb47",
   "metadata": {},
   "source": [
    "#### 5. Реалізація пошуку в глибину"
   ]
  },
  {
   "cell_type": "code",
   "execution_count": 6,
   "id": "db60bc40-3881-40a0-b9f7-99c1ae45f317",
   "metadata": {},
   "outputs": [],
   "source": [
    "def dfs_algorithm(G):\n",
    "    def dfs(graph, start, visited=None):\n",
    "        if visited is None:\n",
    "            visited = set()\n",
    "        visited.add(start)\n",
    "        \n",
    "        # Використовуємо successors для орієнтованого графа\n",
    "        for next_vertex in set(graph.successors(start)) - visited:\n",
    "            dfs(graph, next_vertex, visited)\n",
    "        return visited\n",
    "    \n",
    "    def dfs_paths(graph, start, goal, path=None):\n",
    "        if path is None:\n",
    "            path = [start]\n",
    "        if start == goal:\n",
    "            yield path\n",
    "        \n",
    "        for next_vertex in set(graph.successors(start)) - set(path):\n",
    "            yield from dfs_paths(graph, next_vertex, goal, path + [next_vertex])\n",
    "    \n",
    "    # Обхід графа з вершини 1\n",
    "    if 1 in G.nodes():\n",
    "        visited = dfs(G, 1)\n",
    "        print(f\"Відвідані вершини при DFS з вершини 1: {sorted(visited)}\")\n",
    "    \n",
    "    # Пошук всіх шляхів між вершинами\n",
    "    start_vertex = 1\n",
    "    goal_vertex = 4\n",
    "    \n",
    "    if start_vertex in G.nodes() and goal_vertex in G.nodes():\n",
    "        paths = list(dfs_paths(G, start_vertex, goal_vertex))\n",
    "        print(f\"\\nВсі шляхи від вершини {start_vertex} до вершини {goal_vertex} (DFS):\")\n",
    "        for i, path in enumerate(paths, 1):\n",
    "            print(f\"  Шлях {i}: {' -> '.join(map(str, path))}\")\n",
    "        \n",
    "        if not paths:\n",
    "            print(f\"  Шляхів від {start_vertex} до {goal_vertex} не знайдено\")"
   ]
  },
  {
   "cell_type": "markdown",
   "id": "533e121c-3dbf-4125-8b76-3bb084d688d2",
   "metadata": {},
   "source": [
    "#### 6. Реалізація пошуку в ширину"
   ]
  },
  {
   "cell_type": "code",
   "execution_count": 7,
   "id": "16177e24-3366-4718-9f3d-b80f7c933740",
   "metadata": {},
   "outputs": [],
   "source": [
    "def bfs_algorithm(G):\n",
    "    def bfs_paths(graph, start, goal):\n",
    "        queue = [(start, [start])]\n",
    "        while queue:\n",
    "            (vertex, path) = queue.pop(0)\n",
    "            \n",
    "            for next_vertex in set(graph.successors(vertex)) - set(path):\n",
    "                if next_vertex == goal:\n",
    "                    yield path + [next_vertex]\n",
    "                else:\n",
    "                    queue.append((next_vertex, path + [next_vertex]))\n",
    "    \n",
    "    # Пошук всіх шляхів між вершинами\n",
    "    start_vertex = 1\n",
    "    goal_vertex = 4\n",
    "    \n",
    "    if start_vertex in G.nodes() and goal_vertex in G.nodes():\n",
    "        paths = list(bfs_paths(G, start_vertex, goal_vertex))\n",
    "        print(f\"Всі шляхи від вершини {start_vertex} до вершини {goal_vertex} (BFS):\")\n",
    "        for i, path in enumerate(paths, 1):\n",
    "            print(f\"  Шлях {i}: {' -> '.join(map(str, path))}\")\n",
    "        \n",
    "        if not paths:\n",
    "            print(f\"  Шляхів від {start_vertex} до {goal_vertex} не знайдено\")"
   ]
  },
  {
   "cell_type": "markdown",
   "id": "1bde0bc1-eac5-496b-95c7-3902cbbbb87f",
   "metadata": {},
   "source": [
    "#### 7. Додаткові алгоритми для аналізу графа"
   ]
  },
  {
   "cell_type": "code",
   "execution_count": 30,
   "id": "e27180f3-5f87-442c-a9df-bbc66b0d0036",
   "metadata": {},
   "outputs": [],
   "source": [
    "def additional_algorithms(G):\n",
    "    # Перевірка на циклічність\n",
    "    try:\n",
    "        cycles = list(nx.simple_cycles(G))\n",
    "        if cycles:\n",
    "            print(\"Знайдені цикли в графі:\")\n",
    "            for i, cycle in enumerate(cycles, 1):\n",
    "                print(f\"  Цикл {i}: {' -> '.join(map(str, cycle + [cycle[0]]))}\")\n",
    "        else:\n",
    "            print(\"Граф є ациклічним (DAG)\")\n",
    "    except Exception as e:\n",
    "        print(f\"Помилка при пошуку циклів: {e}\")\n",
    "    \n",
    "    # Топологічне сортування (якщо граф ациклічний)\n",
    "    try:\n",
    "        if nx.is_directed_acyclic_graph(G):\n",
    "            topo_sort = list(nx.topological_sort(G))\n",
    "            print(f\"Топологічне сортування: {' -> '.join(map(str, topo_sort))}\")\n",
    "        else:\n",
    "            print(\"Топологічне сортування неможливе - граф містить цикли\")\n",
    "    except Exception as e:\n",
    "        print(f\"Помилка при топологічному сортуванні: {e}\")"
   ]
  },
  {
   "cell_type": "markdown",
   "id": "a3744290-0108-4fd0-85cb-76af7318a59b",
   "metadata": {},
   "source": [
    "#### Візуалізація графа"
   ]
  },
  {
   "cell_type": "code",
   "execution_count": 32,
   "id": "35d88876-7035-49dd-8fb5-d7670221b913",
   "metadata": {},
   "outputs": [
    {
     "data": {
      "image/png": "[encoded data removed]",
      "text/plain": [
       "<Figure size 1000x800 with 1 Axes>"
      ]
     },
     "metadata": {},
     "output_type": "display_data"
    }
   ],
   "source": [
    "G = create_and_visualize_graph()"
   ]
  },
  {
   "cell_type": "markdown",
   "id": "bfed4791-c452-417e-a11f-e2089831b995",
   "metadata": {},
   "source": [
    "#### Виконання всіх алгоритмів"
   ]
  },
  {
   "cell_type": "code",
   "execution_count": 31,
   "id": "8395444e-aa66-4df6-a1d9-aff13b246f44",
   "metadata": {},
   "outputs": [
    {
     "name": "stdout",
     "output_type": "stream",
     "text": [
      "Найкоротші відстані від вершини 1:\n",
      "  До вершини 1: 0\n",
      "  До вершини 2: 6\n",
      "  До вершини 4: 3\n",
      "  До вершини 5: 2\n",
      "\n",
      "Найкоротші шляхи від вершини 1:\n",
      "  До вершини 1: 1\n",
      "  До вершини 2: 1 -> 5 -> 2\n",
      "  До вершини 4: 1 -> 5 -> 4\n",
      "  До вершини 5: 1 -> 5\n",
      "Найкоротші відстані від вершини 1 (Беллман-Форд):\n",
      "  До вершини 1: 0\n",
      "  До вершини 2: 6\n",
      "  До вершини 4: 3\n",
      "  До вершини 5: 2\n",
      "\n",
      "Найкоротші шляхи від вершини 1 (Беллман-Форд):\n",
      "  До вершини 1: 1\n",
      "  До вершини 2: 1 -> 5 -> 2\n",
      "  До вершини 4: 1 -> 5 -> 4\n",
      "  До вершини 5: 1 -> 5\n",
      "Відвідані вершини при DFS з вершини 1: [1, 2, 4, 5]\n",
      "\n",
      "Всі шляхи від вершини 1 до вершини 4 (DFS):\n",
      "  Шлях 1: 1 -> 5 -> 2 -> 4\n",
      "  Шлях 2: 1 -> 5 -> 4\n",
      "Всі шляхи від вершини 1 до вершини 4 (BFS):\n",
      "  Шлях 1: 1 -> 5 -> 4\n",
      "  Шлях 2: 1 -> 5 -> 2 -> 4\n",
      "Знайдені цикли в графі:\n",
      "  Цикл 1: 3 -> 6 -> 3\n",
      "  Цикл 2: 2 -> 5 -> 2\n",
      "Топологічне сортування неможливе - граф містить цикли\n"
     ]
    }
   ],
   "source": [
    "dijkstra_algorithm(G)\n",
    "bellman_ford_algorithm(G)\n",
    "dfs_algorithm(G)\n",
    "bfs_algorithm(G)\n",
    "additional_algorithms(G)"
   ]
  },
  {
   "cell_type": "markdown",
   "id": "050ff5d5-a94e-4f30-bad3-3a26f9266af2",
   "metadata": {},
   "source": [
    "### Відповіді на контрольні питання"
   ]
  },
  {
   "cell_type": "markdown",
   "id": "eafc855e-51f9-48f0-94ae-88129c31a977",
   "metadata": {},
   "source": [
    "1. Що таке граф?\n",
    "\\\n",
    "Граф G = (V, E) - структура з вершин V і ребер E, що їх з'єднують.\n",
    "\\\n",
    "Приклади: соціальні мережі, дорожні карти, інтернет-топологія, електричні схеми.\n",
    "\n",
    "2. Види графів:\n",
    "\n",
    "- Орієнтовані - ребра мають напрямок (→)\n",
    "- Неорієнтовані - ребра без напрямку (—)\n",
    "- Зважені/незважені - з вагами ребер чи без\n",
    "- Циклічні/ациклічні - з циклами чи без\n",
    "\n",
    "3. Представлення в пам'яті:\n",
    "\n",
    "- Матриця суміжності - двовимірний масив [V×V]\n",
    "- Список суміжності - словник/масив списків сусідів\n",
    "- Список ребер - масив кортежів (u,v,weight)\n",
    "\n",
    "4. BFS (пошук у ширину):\n",
    "\\\n",
    "Обходить граф по рівнях, використовує чергу.\n",
    "\\\n",
    "Застосування: найкоротший шлях в незваженому графі, пошук компонент зв'язності.\n",
    "\n",
    "5. DFS (пошук у глибину):\n",
    "\\\n",
    "Йде максимально глибоко, використовує стек/рекурсію.\n",
    "\\\n",
    "Відмінність від BFS: досліджує спочатку глибину, потім ширину.\n",
    "\\\n",
    "Застосування: топологічне сортування, пошук циклів, лабіринти.\n",
    "\n",
    "\n",
    "6. Алгоритм Дейкстри:\n",
    "\\\n",
    "Знаходить найкоротші шляхи від однієї вершини до всіх інших.\n",
    "\\\n",
    "Умови: всі ваги ребер ≥ 0, граф зв'язний.\n",
    "\\\n",
    "Складність: $O((V+E)logV)$."
   ]
  }
 ],
 "metadata": {
  "kernelspec": {
   "display_name": "Python 3 (ipykernel)",
   "language": "python",
   "name": "python3"
  },
  "language_info": {
   "codemirror_mode": {
    "name": "ipython",
    "version": 3
   },
   "file_extension": ".py",
   "mimetype": "text/x-python",
   "name": "python",
   "nbconvert_exporter": "python",
   "pygments_lexer": "ipython3",
   "version": "3.13.2"
  }
 },
 "nbformat": 4,
 "nbformat_minor": 5
}
